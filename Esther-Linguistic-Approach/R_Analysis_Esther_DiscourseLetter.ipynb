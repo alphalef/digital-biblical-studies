{
 "cells": [
  {
   "cell_type": "markdown",
   "id": "804ad891",
   "metadata": {},
   "source": [
    "# 히브리어 데이터를 이용한 에스더서의 담화 분석\n",
    "\n",
    "본 연구에서는 에스더서의 문장들을 '담화문'(discourse), '서신문'(letter), 그리고 '저자 서술'(description)로 나누어 각 유형의 구문적 특징이 어떠한지 살펴보고자 한다.\n"
   ]
  },
  {
   "cell_type": "code",
   "execution_count": 2,
   "id": "d1650e34",
   "metadata": {
    "scrolled": true
   },
   "outputs": [
    {
     "name": "stderr",
     "output_type": "stream",
     "text": [
      "\n",
      "Attaching package: ‘dplyr’\n",
      "\n",
      "\n",
      "The following objects are masked from ‘package:stats’:\n",
      "\n",
      "    filter, lag\n",
      "\n",
      "\n",
      "The following objects are masked from ‘package:base’:\n",
      "\n",
      "    intersect, setdiff, setequal, union\n",
      "\n",
      "\n"
     ]
    }
   ],
   "source": [
    "library(ggplot2)\n",
    "library(grid)\n",
    "library(dplyr)\n",
    "library(moonBook)\n",
    "library(knitr)"
   ]
  },
  {
   "cell_type": "code",
   "execution_count": 3,
   "id": "34ff52b2",
   "metadata": {},
   "outputs": [],
   "source": [
    "# 에스더서 담화, 편지 글 데이터 로드\n",
    "\n",
    "# ---------문장 단위 데이터\n",
    "discourse_sentence <- read.csv(\"esther_discourse.csv\", header = TRUE)\n",
    "letter_sentence <- read.csv(\"esther_letter.csv\", header = TRUE)\n",
    "description_sentence <- read.csv(\"esther_description.csv\", header = TRUE)\n",
    "total_sentence <- rbind(discourse_sentence, description_sentence, letter_sentence)\n",
    "\n",
    "# ---------단어 단위 데이터\n",
    "discourse <- read.csv(\"esther_discourse_data.csv\", header = TRUE)\n",
    "letter <- read.csv(\"esther_letter_data.csv\", header = TRUE)\n",
    "description <- read.csv(\"esther_description_data.csv\", header = TRUE)\n",
    "total <- rbind(discourse, letter, description)"
   ]
  },
  {
   "cell_type": "markdown",
   "id": "f4f62946",
   "metadata": {},
   "source": [
    "페르시아어 차용어"
   ]
  },
  {
   "cell_type": "code",
   "execution_count": 4,
   "id": "f52147dd",
   "metadata": {},
   "outputs": [
    {
     "data": {
      "text/html": [
       "<table class=\"dataframe\">\n",
       "<caption>A data.frame: 40 × 13</caption>\n",
       "<thead>\n",
       "\t<tr><th></th><th scope=col>book</th><th scope=col>lex</th><th scope=col>sp</th><th scope=col>vs</th><th scope=col>vt</th><th scope=col>ctyp</th><th scope=col>cnode</th><th scope=col>ptyp</th><th scope=col>gloss</th><th scope=col>speaker</th><th scope=col>ttype</th><th scope=col>clausespeaker</th><th scope=col>clausettype</th></tr>\n",
       "\t<tr><th></th><th scope=col>&lt;chr&gt;</th><th scope=col>&lt;chr&gt;</th><th scope=col>&lt;chr&gt;</th><th scope=col>&lt;chr&gt;</th><th scope=col>&lt;chr&gt;</th><th scope=col>&lt;chr&gt;</th><th scope=col>&lt;int&gt;</th><th scope=col>&lt;chr&gt;</th><th scope=col>&lt;chr&gt;</th><th scope=col>&lt;chr&gt;</th><th scope=col>&lt;chr&gt;</th><th scope=col>&lt;chr&gt;</th><th scope=col>&lt;chr&gt;</th></tr>\n",
       "</thead>\n",
       "<tbody>\n",
       "\t<tr><th scope=row>2</th><td>Esther1:15</td><td>דת     </td><td>subs</td><td></td><td></td><td>    </td><td>    NA</td><td>  </td><td>orders  </td><td>persian</td><td>discourse  </td><td>      </td><td>           </td></tr>\n",
       "\t<tr><th scope=row>141</th><td>Esther1:19</td><td>דת     </td><td>subs</td><td></td><td></td><td>    </td><td>    NA</td><td>  </td><td>orders  </td><td>persian</td><td>discourse  </td><td>      </td><td>           </td></tr>\n",
       "\t<tr><th scope=row>150</th><td>Esther1:20</td><td>פתגם   </td><td>subs</td><td></td><td></td><td>    </td><td>    NA</td><td>NP</td><td>decision</td><td>persian</td><td>discourse  </td><td>      </td><td>           </td></tr>\n",
       "\t<tr><th scope=row>253</th><td>Esther3:8 </td><td>דת     </td><td>subs</td><td></td><td></td><td>    </td><td>    NA</td><td>NP</td><td>orders  </td><td>persian</td><td>discourse  </td><td>      </td><td>           </td></tr>\n",
       "\t<tr><th scope=row>260</th><td>Esther3:8 </td><td>דת     </td><td>subs</td><td></td><td></td><td>    </td><td>    NA</td><td>  </td><td>orders  </td><td>persian</td><td>discourse  </td><td>      </td><td>           </td></tr>\n",
       "\t<tr><th scope=row>342</th><td>Esther4:11</td><td>דת     </td><td>subs</td><td></td><td></td><td>    </td><td>    NA</td><td>NP</td><td>orders  </td><td>jew    </td><td>discourse  </td><td>      </td><td>           </td></tr>\n",
       "\t<tr><th scope=row>462</th><td>Esther4:16</td><td>דת     </td><td>subs</td><td></td><td></td><td>    </td><td>    NA</td><td>  </td><td>orders  </td><td>jew    </td><td>discourse  </td><td>      </td><td>           </td></tr>\n",
       "\t<tr><th scope=row>702</th><td>Esther6:9 </td><td>פרתמים </td><td>subs</td><td></td><td></td><td>    </td><td>    NA</td><td>  </td><td>nobles  </td><td>persian</td><td>discourse  </td><td>      </td><td>           </td></tr>\n",
       "\t<tr><th scope=row>1106</th><td>Esther9:13</td><td>דת     </td><td>subs</td><td></td><td></td><td>    </td><td>    NA</td><td>  </td><td>orders  </td><td>jew    </td><td>discourse  </td><td>      </td><td>           </td></tr>\n",
       "\t<tr><th scope=row>1377</th><td>Esther9:24</td><td>פור    </td><td>subs</td><td></td><td></td><td>    </td><td>    NA</td><td>NP</td><td>lot     </td><td>jew    </td><td>letter     </td><td>      </td><td>           </td></tr>\n",
       "\t<tr><th scope=row>1425</th><td>Esther9:26</td><td>פור    </td><td>subs</td><td></td><td></td><td>    </td><td>    NA</td><td>NP</td><td>lot     </td><td>jew    </td><td>letter     </td><td>      </td><td>           </td></tr>\n",
       "\t<tr><th scope=row>1429</th><td>Esther9:26</td><td>פור    </td><td>subs</td><td></td><td></td><td>    </td><td>    NA</td><td>  </td><td>lot     </td><td>jew    </td><td>letter     </td><td>      </td><td>           </td></tr>\n",
       "\t<tr><th scope=row>1485</th><td>Esther1:3 </td><td>פרתמים </td><td>subs</td><td></td><td></td><td>    </td><td>    NA</td><td>  </td><td>nobles  </td><td>author </td><td>description</td><td>      </td><td>           </td></tr>\n",
       "\t<tr><th scope=row>1545</th><td>Esther1:6 </td><td>כרפס   </td><td>subs</td><td></td><td></td><td>    </td><td>    NA</td><td>  </td><td>linen   </td><td>author </td><td>description</td><td>      </td><td>           </td></tr>\n",
       "\t<tr><th scope=row>1596</th><td>Esther1:8 </td><td>דת     </td><td>subs</td><td></td><td></td><td>    </td><td>    NA</td><td>  </td><td>orders  </td><td>author </td><td>description</td><td>      </td><td>           </td></tr>\n",
       "\t<tr><th scope=row>1734</th><td>Esther1:13</td><td>דת     </td><td>subs</td><td></td><td></td><td>    </td><td>    NA</td><td>  </td><td>orders  </td><td>author </td><td>description</td><td>      </td><td>           </td></tr>\n",
       "\t<tr><th scope=row>1930</th><td>Esther2:8 </td><td>דת     </td><td>subs</td><td></td><td></td><td>    </td><td>    NA</td><td>  </td><td>orders  </td><td>author </td><td>description</td><td>      </td><td>           </td></tr>\n",
       "\t<tr><th scope=row>2057</th><td>Esther2:12</td><td>דת     </td><td>subs</td><td></td><td></td><td>    </td><td>    NA</td><td>  </td><td>orders  </td><td>author </td><td>description</td><td>      </td><td>           </td></tr>\n",
       "\t<tr><th scope=row>2545</th><td>Esther3:7 </td><td>פור    </td><td>subs</td><td></td><td></td><td>    </td><td>    NA</td><td>NP</td><td>lot     </td><td>author </td><td>description</td><td>      </td><td>           </td></tr>\n",
       "\t<tr><th scope=row>2625</th><td>Esther3:12</td><td>אחשׁדרפן</td><td>subs</td><td></td><td></td><td>    </td><td>    NA</td><td>  </td><td>satrap  </td><td>author </td><td>description</td><td>      </td><td>           </td></tr>\n",
       "\t<tr><th scope=row>2666</th><td>Esther3:14</td><td>פתשׁגן  </td><td>subs</td><td></td><td></td><td>Ellp</td><td>505510</td><td>NP</td><td>copy    </td><td>author </td><td>description</td><td>author</td><td>description</td></tr>\n",
       "\t<tr><th scope=row>2671</th><td>Esther3:14</td><td>דת     </td><td>subs</td><td></td><td></td><td>    </td><td>    NA</td><td>NP</td><td>orders  </td><td>author </td><td>description</td><td>      </td><td>           </td></tr>\n",
       "\t<tr><th scope=row>2700</th><td>Esther3:15</td><td>דת     </td><td>subs</td><td></td><td></td><td>    </td><td>    NA</td><td>  </td><td>orders  </td><td>author </td><td>description</td><td>      </td><td>           </td></tr>\n",
       "\t<tr><th scope=row>2779</th><td>Esther4:3 </td><td>דת     </td><td>subs</td><td></td><td></td><td>    </td><td>    NA</td><td>  </td><td>orders  </td><td>author </td><td>description</td><td>      </td><td>           </td></tr>\n",
       "\t<tr><th scope=row>2898</th><td>Esther4:8 </td><td>פתשׁגן  </td><td>subs</td><td></td><td></td><td>    </td><td>    NA</td><td>  </td><td>copy    </td><td>author </td><td>description</td><td>      </td><td>           </td></tr>\n",
       "\t<tr><th scope=row>2901</th><td>Esther4:8 </td><td>דת     </td><td>subs</td><td></td><td></td><td>    </td><td>    NA</td><td>  </td><td>orders  </td><td>author </td><td>description</td><td>      </td><td>           </td></tr>\n",
       "\t<tr><th scope=row>3743</th><td>Esther8:9 </td><td>אחשׁדרפן</td><td>subs</td><td></td><td></td><td>    </td><td>    NA</td><td>  </td><td>satrap  </td><td>author </td><td>description</td><td>      </td><td>           </td></tr>\n",
       "\t<tr><th scope=row>3803</th><td>Esther8:10</td><td>אחשׁתרן </td><td>adjv</td><td></td><td></td><td>    </td><td>    NA</td><td>  </td><td>royal   </td><td>author </td><td>description</td><td>      </td><td>           </td></tr>\n",
       "\t<tr><th scope=row>3810</th><td>Esther8:13</td><td>פתשׁגן  </td><td>subs</td><td></td><td></td><td>Ptcp</td><td>505868</td><td>NP</td><td>copy    </td><td>author </td><td>description</td><td>author</td><td>description</td></tr>\n",
       "\t<tr><th scope=row>3815</th><td>Esther8:13</td><td>דת     </td><td>subs</td><td></td><td></td><td>    </td><td>    NA</td><td>NP</td><td>orders  </td><td>author </td><td>description</td><td>      </td><td>           </td></tr>\n",
       "\t<tr><th scope=row>3847</th><td>Esther8:14</td><td>אחשׁתרן </td><td>adjv</td><td></td><td></td><td>    </td><td>    NA</td><td>  </td><td>royal   </td><td>author </td><td>description</td><td>      </td><td>           </td></tr>\n",
       "\t<tr><th scope=row>3858</th><td>Esther8:14</td><td>דת     </td><td>subs</td><td></td><td></td><td>    </td><td>    NA</td><td>  </td><td>orders  </td><td>author </td><td>description</td><td>      </td><td>           </td></tr>\n",
       "\t<tr><th scope=row>3923</th><td>Esther8:17</td><td>דת     </td><td>subs</td><td></td><td></td><td>    </td><td>    NA</td><td>  </td><td>orders  </td><td>author </td><td>description</td><td>      </td><td>           </td></tr>\n",
       "\t<tr><th scope=row>3964</th><td>Esther9:1 </td><td>דת     </td><td>subs</td><td></td><td></td><td>    </td><td>    NA</td><td>  </td><td>orders  </td><td>author </td><td>description</td><td>      </td><td>           </td></tr>\n",
       "\t<tr><th scope=row>4028</th><td>Esther9:3 </td><td>אחשׁדרפן</td><td>subs</td><td></td><td></td><td>    </td><td>    NA</td><td>  </td><td>satrap  </td><td>author </td><td>description</td><td>      </td><td>           </td></tr>\n",
       "\t<tr><th scope=row>4186</th><td>Esther9:14</td><td>דת     </td><td>subs</td><td></td><td></td><td>    </td><td>    NA</td><td>NP</td><td>orders  </td><td>author </td><td>description</td><td>      </td><td>           </td></tr>\n",
       "\t<tr><th scope=row>4444</th><td>Esther9:28</td><td>פור    </td><td>subs</td><td></td><td></td><td>    </td><td>    NA</td><td>  </td><td>lot     </td><td>author </td><td>description</td><td>      </td><td>           </td></tr>\n",
       "\t<tr><th scope=row>4478</th><td>Esther9:29</td><td>פור    </td><td>subs</td><td></td><td></td><td>    </td><td>    NA</td><td>  </td><td>lot     </td><td>author </td><td>description</td><td>      </td><td>           </td></tr>\n",
       "\t<tr><th scope=row>4508</th><td>Esther9:31</td><td>פור    </td><td>subs</td><td></td><td></td><td>    </td><td>    NA</td><td>  </td><td>lot     </td><td>author </td><td>description</td><td>      </td><td>           </td></tr>\n",
       "\t<tr><th scope=row>4544</th><td>Esther9:32</td><td>פור    </td><td>subs</td><td></td><td></td><td>    </td><td>    NA</td><td>  </td><td>lot     </td><td>author </td><td>description</td><td>      </td><td>           </td></tr>\n",
       "</tbody>\n",
       "</table>\n"
      ],
      "text/latex": [
       "A data.frame: 40 × 13\n",
       "\\begin{tabular}{r|lllllllllllll}\n",
       "  & book & lex & sp & vs & vt & ctyp & cnode & ptyp & gloss & speaker & ttype & clausespeaker & clausettype\\\\\n",
       "  & <chr> & <chr> & <chr> & <chr> & <chr> & <chr> & <int> & <chr> & <chr> & <chr> & <chr> & <chr> & <chr>\\\\\n",
       "\\hline\n",
       "\t2 & Esther1:15 & דת      & subs &  &  &      &     NA &    & orders   & persian & discourse   &        &            \\\\\n",
       "\t141 & Esther1:19 & דת      & subs &  &  &      &     NA &    & orders   & persian & discourse   &        &            \\\\\n",
       "\t150 & Esther1:20 & פתגם    & subs &  &  &      &     NA & NP & decision & persian & discourse   &        &            \\\\\n",
       "\t253 & Esther3:8  & דת      & subs &  &  &      &     NA & NP & orders   & persian & discourse   &        &            \\\\\n",
       "\t260 & Esther3:8  & דת      & subs &  &  &      &     NA &    & orders   & persian & discourse   &        &            \\\\\n",
       "\t342 & Esther4:11 & דת      & subs &  &  &      &     NA & NP & orders   & jew     & discourse   &        &            \\\\\n",
       "\t462 & Esther4:16 & דת      & subs &  &  &      &     NA &    & orders   & jew     & discourse   &        &            \\\\\n",
       "\t702 & Esther6:9  & פרתמים  & subs &  &  &      &     NA &    & nobles   & persian & discourse   &        &            \\\\\n",
       "\t1106 & Esther9:13 & דת      & subs &  &  &      &     NA &    & orders   & jew     & discourse   &        &            \\\\\n",
       "\t1377 & Esther9:24 & פור     & subs &  &  &      &     NA & NP & lot      & jew     & letter      &        &            \\\\\n",
       "\t1425 & Esther9:26 & פור     & subs &  &  &      &     NA & NP & lot      & jew     & letter      &        &            \\\\\n",
       "\t1429 & Esther9:26 & פור     & subs &  &  &      &     NA &    & lot      & jew     & letter      &        &            \\\\\n",
       "\t1485 & Esther1:3  & פרתמים  & subs &  &  &      &     NA &    & nobles   & author  & description &        &            \\\\\n",
       "\t1545 & Esther1:6  & כרפס    & subs &  &  &      &     NA &    & linen    & author  & description &        &            \\\\\n",
       "\t1596 & Esther1:8  & דת      & subs &  &  &      &     NA &    & orders   & author  & description &        &            \\\\\n",
       "\t1734 & Esther1:13 & דת      & subs &  &  &      &     NA &    & orders   & author  & description &        &            \\\\\n",
       "\t1930 & Esther2:8  & דת      & subs &  &  &      &     NA &    & orders   & author  & description &        &            \\\\\n",
       "\t2057 & Esther2:12 & דת      & subs &  &  &      &     NA &    & orders   & author  & description &        &            \\\\\n",
       "\t2545 & Esther3:7  & פור     & subs &  &  &      &     NA & NP & lot      & author  & description &        &            \\\\\n",
       "\t2625 & Esther3:12 & אחשׁדרפן & subs &  &  &      &     NA &    & satrap   & author  & description &        &            \\\\\n",
       "\t2666 & Esther3:14 & פתשׁגן   & subs &  &  & Ellp & 505510 & NP & copy     & author  & description & author & description\\\\\n",
       "\t2671 & Esther3:14 & דת      & subs &  &  &      &     NA & NP & orders   & author  & description &        &            \\\\\n",
       "\t2700 & Esther3:15 & דת      & subs &  &  &      &     NA &    & orders   & author  & description &        &            \\\\\n",
       "\t2779 & Esther4:3  & דת      & subs &  &  &      &     NA &    & orders   & author  & description &        &            \\\\\n",
       "\t2898 & Esther4:8  & פתשׁגן   & subs &  &  &      &     NA &    & copy     & author  & description &        &            \\\\\n",
       "\t2901 & Esther4:8  & דת      & subs &  &  &      &     NA &    & orders   & author  & description &        &            \\\\\n",
       "\t3743 & Esther8:9  & אחשׁדרפן & subs &  &  &      &     NA &    & satrap   & author  & description &        &            \\\\\n",
       "\t3803 & Esther8:10 & אחשׁתרן  & adjv &  &  &      &     NA &    & royal    & author  & description &        &            \\\\\n",
       "\t3810 & Esther8:13 & פתשׁגן   & subs &  &  & Ptcp & 505868 & NP & copy     & author  & description & author & description\\\\\n",
       "\t3815 & Esther8:13 & דת      & subs &  &  &      &     NA & NP & orders   & author  & description &        &            \\\\\n",
       "\t3847 & Esther8:14 & אחשׁתרן  & adjv &  &  &      &     NA &    & royal    & author  & description &        &            \\\\\n",
       "\t3858 & Esther8:14 & דת      & subs &  &  &      &     NA &    & orders   & author  & description &        &            \\\\\n",
       "\t3923 & Esther8:17 & דת      & subs &  &  &      &     NA &    & orders   & author  & description &        &            \\\\\n",
       "\t3964 & Esther9:1  & דת      & subs &  &  &      &     NA &    & orders   & author  & description &        &            \\\\\n",
       "\t4028 & Esther9:3  & אחשׁדרפן & subs &  &  &      &     NA &    & satrap   & author  & description &        &            \\\\\n",
       "\t4186 & Esther9:14 & דת      & subs &  &  &      &     NA & NP & orders   & author  & description &        &            \\\\\n",
       "\t4444 & Esther9:28 & פור     & subs &  &  &      &     NA &    & lot      & author  & description &        &            \\\\\n",
       "\t4478 & Esther9:29 & פור     & subs &  &  &      &     NA &    & lot      & author  & description &        &            \\\\\n",
       "\t4508 & Esther9:31 & פור     & subs &  &  &      &     NA &    & lot      & author  & description &        &            \\\\\n",
       "\t4544 & Esther9:32 & פור     & subs &  &  &      &     NA &    & lot      & author  & description &        &            \\\\\n",
       "\\end{tabular}\n"
      ],
      "text/markdown": [
       "\n",
       "A data.frame: 40 × 13\n",
       "\n",
       "| <!--/--> | book &lt;chr&gt; | lex &lt;chr&gt; | sp &lt;chr&gt; | vs &lt;chr&gt; | vt &lt;chr&gt; | ctyp &lt;chr&gt; | cnode &lt;int&gt; | ptyp &lt;chr&gt; | gloss &lt;chr&gt; | speaker &lt;chr&gt; | ttype &lt;chr&gt; | clausespeaker &lt;chr&gt; | clausettype &lt;chr&gt; |\n",
       "|---|---|---|---|---|---|---|---|---|---|---|---|---|---|\n",
       "| 2 | Esther1:15 | דת      | subs | <!----> | <!----> | <!----> |     NA | <!----> | orders   | persian | discourse   | <!----> | <!----> |\n",
       "| 141 | Esther1:19 | דת      | subs | <!----> | <!----> | <!----> |     NA | <!----> | orders   | persian | discourse   | <!----> | <!----> |\n",
       "| 150 | Esther1:20 | פתגם    | subs | <!----> | <!----> | <!----> |     NA | NP | decision | persian | discourse   | <!----> | <!----> |\n",
       "| 253 | Esther3:8  | דת      | subs | <!----> | <!----> | <!----> |     NA | NP | orders   | persian | discourse   | <!----> | <!----> |\n",
       "| 260 | Esther3:8  | דת      | subs | <!----> | <!----> | <!----> |     NA | <!----> | orders   | persian | discourse   | <!----> | <!----> |\n",
       "| 342 | Esther4:11 | דת      | subs | <!----> | <!----> | <!----> |     NA | NP | orders   | jew     | discourse   | <!----> | <!----> |\n",
       "| 462 | Esther4:16 | דת      | subs | <!----> | <!----> | <!----> |     NA | <!----> | orders   | jew     | discourse   | <!----> | <!----> |\n",
       "| 702 | Esther6:9  | פרתמים  | subs | <!----> | <!----> | <!----> |     NA | <!----> | nobles   | persian | discourse   | <!----> | <!----> |\n",
       "| 1106 | Esther9:13 | דת      | subs | <!----> | <!----> | <!----> |     NA | <!----> | orders   | jew     | discourse   | <!----> | <!----> |\n",
       "| 1377 | Esther9:24 | פור     | subs | <!----> | <!----> | <!----> |     NA | NP | lot      | jew     | letter      | <!----> | <!----> |\n",
       "| 1425 | Esther9:26 | פור     | subs | <!----> | <!----> | <!----> |     NA | NP | lot      | jew     | letter      | <!----> | <!----> |\n",
       "| 1429 | Esther9:26 | פור     | subs | <!----> | <!----> | <!----> |     NA | <!----> | lot      | jew     | letter      | <!----> | <!----> |\n",
       "| 1485 | Esther1:3  | פרתמים  | subs | <!----> | <!----> | <!----> |     NA | <!----> | nobles   | author  | description | <!----> | <!----> |\n",
       "| 1545 | Esther1:6  | כרפס    | subs | <!----> | <!----> | <!----> |     NA | <!----> | linen    | author  | description | <!----> | <!----> |\n",
       "| 1596 | Esther1:8  | דת      | subs | <!----> | <!----> | <!----> |     NA | <!----> | orders   | author  | description | <!----> | <!----> |\n",
       "| 1734 | Esther1:13 | דת      | subs | <!----> | <!----> | <!----> |     NA | <!----> | orders   | author  | description | <!----> | <!----> |\n",
       "| 1930 | Esther2:8  | דת      | subs | <!----> | <!----> | <!----> |     NA | <!----> | orders   | author  | description | <!----> | <!----> |\n",
       "| 2057 | Esther2:12 | דת      | subs | <!----> | <!----> | <!----> |     NA | <!----> | orders   | author  | description | <!----> | <!----> |\n",
       "| 2545 | Esther3:7  | פור     | subs | <!----> | <!----> | <!----> |     NA | NP | lot      | author  | description | <!----> | <!----> |\n",
       "| 2625 | Esther3:12 | אחשׁדרפן | subs | <!----> | <!----> | <!----> |     NA | <!----> | satrap   | author  | description | <!----> | <!----> |\n",
       "| 2666 | Esther3:14 | פתשׁגן   | subs | <!----> | <!----> | Ellp | 505510 | NP | copy     | author  | description | author | description |\n",
       "| 2671 | Esther3:14 | דת      | subs | <!----> | <!----> | <!----> |     NA | NP | orders   | author  | description | <!----> | <!----> |\n",
       "| 2700 | Esther3:15 | דת      | subs | <!----> | <!----> | <!----> |     NA | <!----> | orders   | author  | description | <!----> | <!----> |\n",
       "| 2779 | Esther4:3  | דת      | subs | <!----> | <!----> | <!----> |     NA | <!----> | orders   | author  | description | <!----> | <!----> |\n",
       "| 2898 | Esther4:8  | פתשׁגן   | subs | <!----> | <!----> | <!----> |     NA | <!----> | copy     | author  | description | <!----> | <!----> |\n",
       "| 2901 | Esther4:8  | דת      | subs | <!----> | <!----> | <!----> |     NA | <!----> | orders   | author  | description | <!----> | <!----> |\n",
       "| 3743 | Esther8:9  | אחשׁדרפן | subs | <!----> | <!----> | <!----> |     NA | <!----> | satrap   | author  | description | <!----> | <!----> |\n",
       "| 3803 | Esther8:10 | אחשׁתרן  | adjv | <!----> | <!----> | <!----> |     NA | <!----> | royal    | author  | description | <!----> | <!----> |\n",
       "| 3810 | Esther8:13 | פתשׁגן   | subs | <!----> | <!----> | Ptcp | 505868 | NP | copy     | author  | description | author | description |\n",
       "| 3815 | Esther8:13 | דת      | subs | <!----> | <!----> | <!----> |     NA | NP | orders   | author  | description | <!----> | <!----> |\n",
       "| 3847 | Esther8:14 | אחשׁתרן  | adjv | <!----> | <!----> | <!----> |     NA | <!----> | royal    | author  | description | <!----> | <!----> |\n",
       "| 3858 | Esther8:14 | דת      | subs | <!----> | <!----> | <!----> |     NA | <!----> | orders   | author  | description | <!----> | <!----> |\n",
       "| 3923 | Esther8:17 | דת      | subs | <!----> | <!----> | <!----> |     NA | <!----> | orders   | author  | description | <!----> | <!----> |\n",
       "| 3964 | Esther9:1  | דת      | subs | <!----> | <!----> | <!----> |     NA | <!----> | orders   | author  | description | <!----> | <!----> |\n",
       "| 4028 | Esther9:3  | אחשׁדרפן | subs | <!----> | <!----> | <!----> |     NA | <!----> | satrap   | author  | description | <!----> | <!----> |\n",
       "| 4186 | Esther9:14 | דת      | subs | <!----> | <!----> | <!----> |     NA | NP | orders   | author  | description | <!----> | <!----> |\n",
       "| 4444 | Esther9:28 | פור     | subs | <!----> | <!----> | <!----> |     NA | <!----> | lot      | author  | description | <!----> | <!----> |\n",
       "| 4478 | Esther9:29 | פור     | subs | <!----> | <!----> | <!----> |     NA | <!----> | lot      | author  | description | <!----> | <!----> |\n",
       "| 4508 | Esther9:31 | פור     | subs | <!----> | <!----> | <!----> |     NA | <!----> | lot      | author  | description | <!----> | <!----> |\n",
       "| 4544 | Esther9:32 | פור     | subs | <!----> | <!----> | <!----> |     NA | <!----> | lot      | author  | description | <!----> | <!----> |\n",
       "\n"
      ],
      "text/plain": [
       "     book       lex     sp   vs vt ctyp cnode  ptyp gloss    speaker\n",
       "2    Esther1:15 דת      subs                NA      orders   persian\n",
       "141  Esther1:19 דת      subs                NA      orders   persian\n",
       "150  Esther1:20 פתגם    subs                NA NP   decision persian\n",
       "253  Esther3:8  דת      subs                NA NP   orders   persian\n",
       "260  Esther3:8  דת      subs                NA      orders   persian\n",
       "342  Esther4:11 דת      subs                NA NP   orders   jew    \n",
       "462  Esther4:16 דת      subs                NA      orders   jew    \n",
       "702  Esther6:9  פרתמים  subs                NA      nobles   persian\n",
       "1106 Esther9:13 דת      subs                NA      orders   jew    \n",
       "1377 Esther9:24 פור     subs                NA NP   lot      jew    \n",
       "1425 Esther9:26 פור     subs                NA NP   lot      jew    \n",
       "1429 Esther9:26 פור     subs                NA      lot      jew    \n",
       "1485 Esther1:3  פרתמים  subs                NA      nobles   author \n",
       "1545 Esther1:6  כרפס    subs                NA      linen    author \n",
       "1596 Esther1:8  דת      subs                NA      orders   author \n",
       "1734 Esther1:13 דת      subs                NA      orders   author \n",
       "1930 Esther2:8  דת      subs                NA      orders   author \n",
       "2057 Esther2:12 דת      subs                NA      orders   author \n",
       "2545 Esther3:7  פור     subs                NA NP   lot      author \n",
       "2625 Esther3:12 אחשׁדרפן subs                NA      satrap   author \n",
       "2666 Esther3:14 פתשׁגן   subs       Ellp 505510 NP   copy     author \n",
       "2671 Esther3:14 דת      subs                NA NP   orders   author \n",
       "2700 Esther3:15 דת      subs                NA      orders   author \n",
       "2779 Esther4:3  דת      subs                NA      orders   author \n",
       "2898 Esther4:8  פתשׁגן   subs                NA      copy     author \n",
       "2901 Esther4:8  דת      subs                NA      orders   author \n",
       "3743 Esther8:9  אחשׁדרפן subs                NA      satrap   author \n",
       "3803 Esther8:10 אחשׁתרן  adjv                NA      royal    author \n",
       "3810 Esther8:13 פתשׁגן   subs       Ptcp 505868 NP   copy     author \n",
       "3815 Esther8:13 דת      subs                NA NP   orders   author \n",
       "3847 Esther8:14 אחשׁתרן  adjv                NA      royal    author \n",
       "3858 Esther8:14 דת      subs                NA      orders   author \n",
       "3923 Esther8:17 דת      subs                NA      orders   author \n",
       "3964 Esther9:1  דת      subs                NA      orders   author \n",
       "4028 Esther9:3  אחשׁדרפן subs                NA      satrap   author \n",
       "4186 Esther9:14 דת      subs                NA NP   orders   author \n",
       "4444 Esther9:28 פור     subs                NA      lot      author \n",
       "4478 Esther9:29 פור     subs                NA      lot      author \n",
       "4508 Esther9:31 פור     subs                NA      lot      author \n",
       "4544 Esther9:32 פור     subs                NA      lot      author \n",
       "     ttype       clausespeaker clausettype\n",
       "2    discourse                            \n",
       "141  discourse                            \n",
       "150  discourse                            \n",
       "253  discourse                            \n",
       "260  discourse                            \n",
       "342  discourse                            \n",
       "462  discourse                            \n",
       "702  discourse                            \n",
       "1106 discourse                            \n",
       "1377 letter                               \n",
       "1425 letter                               \n",
       "1429 letter                               \n",
       "1485 description                          \n",
       "1545 description                          \n",
       "1596 description                          \n",
       "1734 description                          \n",
       "1930 description                          \n",
       "2057 description                          \n",
       "2545 description                          \n",
       "2625 description                          \n",
       "2666 description author        description\n",
       "2671 description                          \n",
       "2700 description                          \n",
       "2779 description                          \n",
       "2898 description                          \n",
       "2901 description                          \n",
       "3743 description                          \n",
       "3803 description                          \n",
       "3810 description author        description\n",
       "3815 description                          \n",
       "3847 description                          \n",
       "3858 description                          \n",
       "3923 description                          \n",
       "3964 description                          \n",
       "4028 description                          \n",
       "4186 description                          \n",
       "4444 description                          \n",
       "4478 description                          \n",
       "4508 description                          \n",
       "4544 description                          "
      ]
     },
     "metadata": {},
     "output_type": "display_data"
    },
    {
     "data": {
      "text/plain": [
       "         \n",
       "          description discourse letter\n",
       "  author           28         0      0\n",
       "  jew               0         3      3\n",
       "  persian           0         6      0"
      ]
     },
     "metadata": {},
     "output_type": "display_data"
    }
   ],
   "source": [
    "late_lex_list = total[(total$lex==\"דת\" | \n",
    "      total$lex==\"פתגם\" | \n",
    "      total$lex==\"כרפס\" | \n",
    "      total$lex==\"אחשׁדרפן\" | \n",
    "      total$lex==\"פתשׁגן\" | \n",
    "      total$lex==\"אחשׁתרן\" | \n",
    "      total$lex==\"פרתמים\" | \n",
    "      total$lex==\"פור\" |\n",
    "      total$lex==\"פתגם\") \n",
    "#       &\n",
    "#       total$speaker==\"jew\"\n",
    "      , \n",
    "     ]\n",
    "\n",
    "late_lex_list\n",
    "table(late_lex_list$speaker, late_lex_list$ttype)"
   ]
  },
  {
   "cell_type": "markdown",
   "id": "b00ee9db-e390-4a6b-a588-c0663c597a37",
   "metadata": {},
   "source": [
    "아람어 차용어"
   ]
  },
  {
   "cell_type": "code",
   "execution_count": 6,
   "id": "cdc63b96-0b50-4d12-a3ae-ea2813279b61",
   "metadata": {},
   "outputs": [
    {
     "data": {
      "text/html": [
       "<table class=\"dataframe\">\n",
       "<caption>A data.frame: 53 × 13</caption>\n",
       "<thead>\n",
       "\t<tr><th></th><th scope=col>book</th><th scope=col>lex</th><th scope=col>sp</th><th scope=col>vs</th><th scope=col>vt</th><th scope=col>ctyp</th><th scope=col>cnode</th><th scope=col>ptyp</th><th scope=col>gloss</th><th scope=col>speaker</th><th scope=col>ttype</th><th scope=col>clausespeaker</th><th scope=col>clausettype</th></tr>\n",
       "\t<tr><th></th><th scope=col>&lt;chr&gt;</th><th scope=col>&lt;chr&gt;</th><th scope=col>&lt;chr&gt;</th><th scope=col>&lt;chr&gt;</th><th scope=col>&lt;chr&gt;</th><th scope=col>&lt;chr&gt;</th><th scope=col>&lt;int&gt;</th><th scope=col>&lt;chr&gt;</th><th scope=col>&lt;chr&gt;</th><th scope=col>&lt;chr&gt;</th><th scope=col>&lt;chr&gt;</th><th scope=col>&lt;chr&gt;</th><th scope=col>&lt;chr&gt;</th></tr>\n",
       "</thead>\n",
       "<tbody>\n",
       "\t<tr><th scope=row>115</th><td>Esther1:19</td><td>מלכות</td><td>subs</td><td>   </td><td>    </td><td></td><td>NA</td><td>  </td><td>kingship    </td><td>persian</td><td>discourse  </td><td></td><td></td></tr>\n",
       "\t<tr><th scope=row>129</th><td>Esther1:19</td><td>מלכות</td><td>subs</td><td>   </td><td>    </td><td></td><td>NA</td><td>NP</td><td>kingship    </td><td>persian</td><td>discourse  </td><td></td><td></td></tr>\n",
       "\t<tr><th scope=row>157</th><td>Esther1:20</td><td>מלכות</td><td>subs</td><td>   </td><td>    </td><td></td><td>NA</td><td>  </td><td>kingship    </td><td>persian</td><td>discourse  </td><td></td><td></td></tr>\n",
       "\t<tr><th scope=row>166</th><td>Esther1:20</td><td>יקר  </td><td>subs</td><td>   </td><td>    </td><td></td><td>NA</td><td>NP</td><td>preciousness</td><td>persian</td><td>discourse  </td><td></td><td></td></tr>\n",
       "\t<tr><th scope=row>191</th><td>Esther2:3 </td><td>מלכות</td><td>subs</td><td>   </td><td>    </td><td></td><td>NA</td><td>  </td><td>kingship    </td><td>persian</td><td>discourse  </td><td></td><td></td></tr>\n",
       "\t<tr><th scope=row>251</th><td>Esther3:8 </td><td>מלכות</td><td>subs</td><td>   </td><td>    </td><td></td><td>NA</td><td>  </td><td>kingship    </td><td>persian</td><td>discourse  </td><td></td><td></td></tr>\n",
       "\t<tr><th scope=row>349</th><td>Esther4:11</td><td>ישׁט  </td><td>verb</td><td>hif</td><td>impf</td><td></td><td>NA</td><td>VP</td><td>hold        </td><td>jew    </td><td>discourse  </td><td></td><td></td></tr>\n",
       "\t<tr><th scope=row>420</th><td>Esther4:14</td><td>מלכות</td><td>subs</td><td>   </td><td>    </td><td></td><td>NA</td><td>  </td><td>kingship    </td><td>jew    </td><td>discourse  </td><td></td><td></td></tr>\n",
       "\t<tr><th scope=row>479</th><td>Esther5:3 </td><td>מלכות</td><td>subs</td><td>   </td><td>    </td><td></td><td>NA</td><td>  </td><td>kingship    </td><td>persian</td><td>discourse  </td><td></td><td></td></tr>\n",
       "\t<tr><th scope=row>512</th><td>Esther5:6 </td><td>מלכות</td><td>subs</td><td>   </td><td>    </td><td></td><td>NA</td><td>  </td><td>kingship    </td><td>persian</td><td>discourse  </td><td></td><td></td></tr>\n",
       "\t<tr><th scope=row>614</th><td>Esther6:3 </td><td>יקר  </td><td>subs</td><td>   </td><td>    </td><td></td><td>NA</td><td>NP</td><td>preciousness</td><td>persian</td><td>discourse  </td><td></td><td></td></tr>\n",
       "\t<tr><th scope=row>647</th><td>Esther6:6 </td><td>יקר  </td><td>subs</td><td>   </td><td>    </td><td></td><td>NA</td><td>  </td><td>preciousness</td><td>persian</td><td>discourse  </td><td></td><td></td></tr>\n",
       "\t<tr><th scope=row>655</th><td>Esther6:6 </td><td>יקר  </td><td>subs</td><td>   </td><td>    </td><td></td><td>NA</td><td>NP</td><td>preciousness</td><td>persian</td><td>discourse  </td><td></td><td></td></tr>\n",
       "\t<tr><th scope=row>664</th><td>Esther6:7 </td><td>יקר  </td><td>subs</td><td>   </td><td>    </td><td></td><td>NA</td><td>  </td><td>preciousness</td><td>persian</td><td>discourse  </td><td></td><td></td></tr>\n",
       "\t<tr><th scope=row>667</th><td>Esther6:8 </td><td>מלכות</td><td>subs</td><td>   </td><td>    </td><td></td><td>NA</td><td>  </td><td>kingship    </td><td>persian</td><td>discourse  </td><td></td><td></td></tr>\n",
       "\t<tr><th scope=row>684</th><td>Esther6:8 </td><td>מלכות</td><td>subs</td><td>   </td><td>    </td><td></td><td>NA</td><td>  </td><td>kingship    </td><td>persian</td><td>discourse  </td><td></td><td></td></tr>\n",
       "\t<tr><th scope=row>713</th><td>Esther6:9 </td><td>יקר  </td><td>subs</td><td>   </td><td>    </td><td></td><td>NA</td><td>  </td><td>preciousness</td><td>persian</td><td>discourse  </td><td></td><td></td></tr>\n",
       "\t<tr><th scope=row>737</th><td>Esther6:9 </td><td>יקר  </td><td>subs</td><td>   </td><td>    </td><td></td><td>NA</td><td>  </td><td>preciousness</td><td>persian</td><td>discourse  </td><td></td><td></td></tr>\n",
       "\t<tr><th scope=row>780</th><td>Esther6:11</td><td>יקר  </td><td>subs</td><td>   </td><td>    </td><td></td><td>NA</td><td>  </td><td>preciousness</td><td>persian</td><td>discourse  </td><td></td><td></td></tr>\n",
       "\t<tr><th scope=row>815</th><td>Esther7:2 </td><td>מלכות</td><td>subs</td><td>   </td><td>    </td><td></td><td>NA</td><td>  </td><td>kingship    </td><td>persian</td><td>discourse  </td><td></td><td></td></tr>\n",
       "\t<tr><th scope=row>1037</th><td>Esther8:8 </td><td>כתב  </td><td>subs</td><td>   </td><td>    </td><td></td><td>NA</td><td>NP</td><td>writing     </td><td>persian</td><td>discourse  </td><td></td><td></td></tr>\n",
       "\t<tr><th scope=row>1462</th><td>Esther1:2 </td><td>מלכות</td><td>subs</td><td>   </td><td>    </td><td></td><td>NA</td><td>  </td><td>kingship    </td><td>author </td><td>description</td><td></td><td></td></tr>\n",
       "\t<tr><th scope=row>1497</th><td>Esther1:4 </td><td>מלכות</td><td>subs</td><td>   </td><td>    </td><td></td><td>NA</td><td>  </td><td>kingship    </td><td>author </td><td>description</td><td></td><td></td></tr>\n",
       "\t<tr><th scope=row>1500</th><td>Esther1:4 </td><td>יקר  </td><td>subs</td><td>   </td><td>    </td><td></td><td>NA</td><td>  </td><td>preciousness</td><td>author </td><td>description</td><td></td><td></td></tr>\n",
       "\t<tr><th scope=row>1585</th><td>Esther1:7 </td><td>מלכות</td><td>subs</td><td>   </td><td>    </td><td></td><td>NA</td><td>  </td><td>kingship    </td><td>author </td><td>description</td><td></td><td></td></tr>\n",
       "\t<tr><th scope=row>1598</th><td>Esther1:8 </td><td>אנס  </td><td>verb</td><td>qal</td><td>ptca</td><td></td><td>NA</td><td>NP</td><td>compel      </td><td>author </td><td>description</td><td></td><td></td></tr>\n",
       "\t<tr><th scope=row>1624</th><td>Esther1:9 </td><td>מלכות</td><td>subs</td><td>   </td><td>    </td><td></td><td>NA</td><td>  </td><td>kingship    </td><td>author </td><td>description</td><td></td><td></td></tr>\n",
       "\t<tr><th scope=row>1676</th><td>Esther1:11</td><td>מלכות</td><td>subs</td><td>   </td><td>    </td><td></td><td>NA</td><td>  </td><td>kingship    </td><td>author </td><td>description</td><td></td><td></td></tr>\n",
       "\t<tr><th scope=row>1762</th><td>Esther1:14</td><td>מלכות</td><td>subs</td><td>   </td><td>    </td><td></td><td>NA</td><td>  </td><td>kingship    </td><td>author </td><td>description</td><td></td><td></td></tr>\n",
       "\t<tr><th scope=row>1804</th><td>Esther1:22</td><td>כתב  </td><td>subs</td><td>   </td><td>    </td><td></td><td>NA</td><td>  </td><td>writing     </td><td>author </td><td>description</td><td></td><td></td></tr>\n",
       "\t<tr><th scope=row>2204</th><td>Esther2:16</td><td>מלכות</td><td>subs</td><td>   </td><td>    </td><td></td><td>NA</td><td>  </td><td>kingship    </td><td>author </td><td>description</td><td></td><td></td></tr>\n",
       "\t<tr><th scope=row>2214</th><td>Esther2:16</td><td>מלכות</td><td>subs</td><td>   </td><td>    </td><td></td><td>NA</td><td>  </td><td>kingship    </td><td>author </td><td>description</td><td></td><td></td></tr>\n",
       "\t<tr><th scope=row>2242</th><td>Esther2:17</td><td>מלכות</td><td>subs</td><td>   </td><td>    </td><td></td><td>NA</td><td>  </td><td>kingship    </td><td>author </td><td>description</td><td></td><td></td></tr>\n",
       "\t<tr><th scope=row>2527</th><td>Esther3:6 </td><td>מלכות</td><td>subs</td><td>   </td><td>    </td><td></td><td>NA</td><td>  </td><td>kingship    </td><td>author </td><td>description</td><td></td><td></td></tr>\n",
       "\t<tr><th scope=row>2647</th><td>Esther3:12</td><td>כתב  </td><td>subs</td><td>   </td><td>    </td><td></td><td>NA</td><td>  </td><td>writing     </td><td>author </td><td>description</td><td></td><td></td></tr>\n",
       "\t<tr><th scope=row>2668</th><td>Esther3:14</td><td>כתב  </td><td>subs</td><td>   </td><td>    </td><td></td><td>NA</td><td>  </td><td>writing     </td><td>author </td><td>description</td><td></td><td></td></tr>\n",
       "\t<tr><th scope=row>2899</th><td>Esther4:8 </td><td>כתב  </td><td>subs</td><td>   </td><td>    </td><td></td><td>NA</td><td>  </td><td>writing     </td><td>author </td><td>description</td><td></td><td></td></tr>\n",
       "\t<tr><th scope=row>2999</th><td>Esther5:1 </td><td>מלכות</td><td>subs</td><td>   </td><td>    </td><td></td><td>NA</td><td>NP</td><td>kingship    </td><td>author </td><td>description</td><td></td><td></td></tr>\n",
       "\t<tr><th scope=row>3019</th><td>Esther5:1 </td><td>מלכות</td><td>subs</td><td>   </td><td>    </td><td></td><td>NA</td><td>  </td><td>kingship    </td><td>author </td><td>description</td><td></td><td></td></tr>\n",
       "\t<tr><th scope=row>3023</th><td>Esther5:1 </td><td>מלכות</td><td>subs</td><td>   </td><td>    </td><td></td><td>NA</td><td>  </td><td>kingship    </td><td>author </td><td>description</td><td></td><td></td></tr>\n",
       "\t<tr><th scope=row>3047</th><td>Esther5:2 </td><td>ישׁט  </td><td>verb</td><td>hif</td><td>wayq</td><td></td><td>NA</td><td>VP</td><td>hold        </td><td>author </td><td>description</td><td></td><td></td></tr>\n",
       "\t<tr><th scope=row>3673</th><td>Esther8:4 </td><td>ישׁט  </td><td>verb</td><td>hif</td><td>wayq</td><td></td><td>NA</td><td>VP</td><td>hold        </td><td>author </td><td>description</td><td></td><td></td></tr>\n",
       "\t<tr><th scope=row>3767</th><td>Esther8:9 </td><td>כתב  </td><td>subs</td><td>   </td><td>    </td><td></td><td>NA</td><td>  </td><td>writing     </td><td>author </td><td>description</td><td></td><td></td></tr>\n",
       "\t<tr><th scope=row>3779</th><td>Esther8:9 </td><td>כתב  </td><td>subs</td><td>   </td><td>    </td><td></td><td>NA</td><td>  </td><td>writing     </td><td>author </td><td>description</td><td></td><td></td></tr>\n",
       "\t<tr><th scope=row>3812</th><td>Esther8:13</td><td>כתב  </td><td>subs</td><td>   </td><td>    </td><td></td><td>NA</td><td>  </td><td>writing     </td><td>author </td><td>description</td><td></td><td></td></tr>\n",
       "\t<tr><th scope=row>3874</th><td>Esther8:15</td><td>מלכות</td><td>subs</td><td>   </td><td>    </td><td></td><td>NA</td><td>  </td><td>kingship    </td><td>author </td><td>description</td><td></td><td></td></tr>\n",
       "\t<tr><th scope=row>3904</th><td>Esther8:16</td><td>יקר  </td><td>subs</td><td>   </td><td>    </td><td></td><td>NA</td><td>  </td><td>preciousness</td><td>author </td><td>description</td><td></td><td></td></tr>\n",
       "\t<tr><th scope=row>3976</th><td>Esther9:1 </td><td>שׁלט  </td><td>verb</td><td>qal</td><td>infc</td><td></td><td>NA</td><td>  </td><td>dominate    </td><td>author </td><td>description</td><td></td><td></td></tr>\n",
       "\t<tr><th scope=row>3982</th><td>Esther9:1 </td><td>שׁלט  </td><td>verb</td><td>qal</td><td>impf</td><td></td><td>NA</td><td>VP</td><td>dominate    </td><td>author </td><td>description</td><td></td><td></td></tr>\n",
       "\t<tr><th scope=row>4406</th><td>Esther9:27</td><td>כתב  </td><td>subs</td><td>   </td><td>    </td><td></td><td>NA</td><td>  </td><td>writing     </td><td>author </td><td>description</td><td></td><td></td></tr>\n",
       "\t<tr><th scope=row>4409</th><td>Esther9:27</td><td>זמן  </td><td>subs</td><td>   </td><td>    </td><td></td><td>NA</td><td>  </td><td>season      </td><td>author </td><td>description</td><td></td><td></td></tr>\n",
       "\t<tr><th scope=row>4497</th><td>Esther9:30</td><td>מלכות</td><td>subs</td><td>   </td><td>    </td><td></td><td>NA</td><td>  </td><td>kingship    </td><td>author </td><td>description</td><td></td><td></td></tr>\n",
       "\t<tr><th scope=row>4512</th><td>Esther9:31</td><td>זמן  </td><td>subs</td><td>   </td><td>    </td><td></td><td>NA</td><td>  </td><td>season      </td><td>author </td><td>description</td><td></td><td></td></tr>\n",
       "</tbody>\n",
       "</table>\n"
      ],
      "text/latex": [
       "A data.frame: 53 × 13\n",
       "\\begin{tabular}{r|lllllllllllll}\n",
       "  & book & lex & sp & vs & vt & ctyp & cnode & ptyp & gloss & speaker & ttype & clausespeaker & clausettype\\\\\n",
       "  & <chr> & <chr> & <chr> & <chr> & <chr> & <chr> & <int> & <chr> & <chr> & <chr> & <chr> & <chr> & <chr>\\\\\n",
       "\\hline\n",
       "\t115 & Esther1:19 & מלכות & subs &     &      &  & NA &    & kingship     & persian & discourse   &  & \\\\\n",
       "\t129 & Esther1:19 & מלכות & subs &     &      &  & NA & NP & kingship     & persian & discourse   &  & \\\\\n",
       "\t157 & Esther1:20 & מלכות & subs &     &      &  & NA &    & kingship     & persian & discourse   &  & \\\\\n",
       "\t166 & Esther1:20 & יקר   & subs &     &      &  & NA & NP & preciousness & persian & discourse   &  & \\\\\n",
       "\t191 & Esther2:3  & מלכות & subs &     &      &  & NA &    & kingship     & persian & discourse   &  & \\\\\n",
       "\t251 & Esther3:8  & מלכות & subs &     &      &  & NA &    & kingship     & persian & discourse   &  & \\\\\n",
       "\t349 & Esther4:11 & ישׁט   & verb & hif & impf &  & NA & VP & hold         & jew     & discourse   &  & \\\\\n",
       "\t420 & Esther4:14 & מלכות & subs &     &      &  & NA &    & kingship     & jew     & discourse   &  & \\\\\n",
       "\t479 & Esther5:3  & מלכות & subs &     &      &  & NA &    & kingship     & persian & discourse   &  & \\\\\n",
       "\t512 & Esther5:6  & מלכות & subs &     &      &  & NA &    & kingship     & persian & discourse   &  & \\\\\n",
       "\t614 & Esther6:3  & יקר   & subs &     &      &  & NA & NP & preciousness & persian & discourse   &  & \\\\\n",
       "\t647 & Esther6:6  & יקר   & subs &     &      &  & NA &    & preciousness & persian & discourse   &  & \\\\\n",
       "\t655 & Esther6:6  & יקר   & subs &     &      &  & NA & NP & preciousness & persian & discourse   &  & \\\\\n",
       "\t664 & Esther6:7  & יקר   & subs &     &      &  & NA &    & preciousness & persian & discourse   &  & \\\\\n",
       "\t667 & Esther6:8  & מלכות & subs &     &      &  & NA &    & kingship     & persian & discourse   &  & \\\\\n",
       "\t684 & Esther6:8  & מלכות & subs &     &      &  & NA &    & kingship     & persian & discourse   &  & \\\\\n",
       "\t713 & Esther6:9  & יקר   & subs &     &      &  & NA &    & preciousness & persian & discourse   &  & \\\\\n",
       "\t737 & Esther6:9  & יקר   & subs &     &      &  & NA &    & preciousness & persian & discourse   &  & \\\\\n",
       "\t780 & Esther6:11 & יקר   & subs &     &      &  & NA &    & preciousness & persian & discourse   &  & \\\\\n",
       "\t815 & Esther7:2  & מלכות & subs &     &      &  & NA &    & kingship     & persian & discourse   &  & \\\\\n",
       "\t1037 & Esther8:8  & כתב   & subs &     &      &  & NA & NP & writing      & persian & discourse   &  & \\\\\n",
       "\t1462 & Esther1:2  & מלכות & subs &     &      &  & NA &    & kingship     & author  & description &  & \\\\\n",
       "\t1497 & Esther1:4  & מלכות & subs &     &      &  & NA &    & kingship     & author  & description &  & \\\\\n",
       "\t1500 & Esther1:4  & יקר   & subs &     &      &  & NA &    & preciousness & author  & description &  & \\\\\n",
       "\t1585 & Esther1:7  & מלכות & subs &     &      &  & NA &    & kingship     & author  & description &  & \\\\\n",
       "\t1598 & Esther1:8  & אנס   & verb & qal & ptca &  & NA & NP & compel       & author  & description &  & \\\\\n",
       "\t1624 & Esther1:9  & מלכות & subs &     &      &  & NA &    & kingship     & author  & description &  & \\\\\n",
       "\t1676 & Esther1:11 & מלכות & subs &     &      &  & NA &    & kingship     & author  & description &  & \\\\\n",
       "\t1762 & Esther1:14 & מלכות & subs &     &      &  & NA &    & kingship     & author  & description &  & \\\\\n",
       "\t1804 & Esther1:22 & כתב   & subs &     &      &  & NA &    & writing      & author  & description &  & \\\\\n",
       "\t2204 & Esther2:16 & מלכות & subs &     &      &  & NA &    & kingship     & author  & description &  & \\\\\n",
       "\t2214 & Esther2:16 & מלכות & subs &     &      &  & NA &    & kingship     & author  & description &  & \\\\\n",
       "\t2242 & Esther2:17 & מלכות & subs &     &      &  & NA &    & kingship     & author  & description &  & \\\\\n",
       "\t2527 & Esther3:6  & מלכות & subs &     &      &  & NA &    & kingship     & author  & description &  & \\\\\n",
       "\t2647 & Esther3:12 & כתב   & subs &     &      &  & NA &    & writing      & author  & description &  & \\\\\n",
       "\t2668 & Esther3:14 & כתב   & subs &     &      &  & NA &    & writing      & author  & description &  & \\\\\n",
       "\t2899 & Esther4:8  & כתב   & subs &     &      &  & NA &    & writing      & author  & description &  & \\\\\n",
       "\t2999 & Esther5:1  & מלכות & subs &     &      &  & NA & NP & kingship     & author  & description &  & \\\\\n",
       "\t3019 & Esther5:1  & מלכות & subs &     &      &  & NA &    & kingship     & author  & description &  & \\\\\n",
       "\t3023 & Esther5:1  & מלכות & subs &     &      &  & NA &    & kingship     & author  & description &  & \\\\\n",
       "\t3047 & Esther5:2  & ישׁט   & verb & hif & wayq &  & NA & VP & hold         & author  & description &  & \\\\\n",
       "\t3673 & Esther8:4  & ישׁט   & verb & hif & wayq &  & NA & VP & hold         & author  & description &  & \\\\\n",
       "\t3767 & Esther8:9  & כתב   & subs &     &      &  & NA &    & writing      & author  & description &  & \\\\\n",
       "\t3779 & Esther8:9  & כתב   & subs &     &      &  & NA &    & writing      & author  & description &  & \\\\\n",
       "\t3812 & Esther8:13 & כתב   & subs &     &      &  & NA &    & writing      & author  & description &  & \\\\\n",
       "\t3874 & Esther8:15 & מלכות & subs &     &      &  & NA &    & kingship     & author  & description &  & \\\\\n",
       "\t3904 & Esther8:16 & יקר   & subs &     &      &  & NA &    & preciousness & author  & description &  & \\\\\n",
       "\t3976 & Esther9:1  & שׁלט   & verb & qal & infc &  & NA &    & dominate     & author  & description &  & \\\\\n",
       "\t3982 & Esther9:1  & שׁלט   & verb & qal & impf &  & NA & VP & dominate     & author  & description &  & \\\\\n",
       "\t4406 & Esther9:27 & כתב   & subs &     &      &  & NA &    & writing      & author  & description &  & \\\\\n",
       "\t4409 & Esther9:27 & זמן   & subs &     &      &  & NA &    & season       & author  & description &  & \\\\\n",
       "\t4497 & Esther9:30 & מלכות & subs &     &      &  & NA &    & kingship     & author  & description &  & \\\\\n",
       "\t4512 & Esther9:31 & זמן   & subs &     &      &  & NA &    & season       & author  & description &  & \\\\\n",
       "\\end{tabular}\n"
      ],
      "text/markdown": [
       "\n",
       "A data.frame: 53 × 13\n",
       "\n",
       "| <!--/--> | book &lt;chr&gt; | lex &lt;chr&gt; | sp &lt;chr&gt; | vs &lt;chr&gt; | vt &lt;chr&gt; | ctyp &lt;chr&gt; | cnode &lt;int&gt; | ptyp &lt;chr&gt; | gloss &lt;chr&gt; | speaker &lt;chr&gt; | ttype &lt;chr&gt; | clausespeaker &lt;chr&gt; | clausettype &lt;chr&gt; |\n",
       "|---|---|---|---|---|---|---|---|---|---|---|---|---|---|\n",
       "| 115 | Esther1:19 | מלכות | subs | <!----> | <!----> | <!----> | NA | <!----> | kingship     | persian | discourse   | <!----> | <!----> |\n",
       "| 129 | Esther1:19 | מלכות | subs | <!----> | <!----> | <!----> | NA | NP | kingship     | persian | discourse   | <!----> | <!----> |\n",
       "| 157 | Esther1:20 | מלכות | subs | <!----> | <!----> | <!----> | NA | <!----> | kingship     | persian | discourse   | <!----> | <!----> |\n",
       "| 166 | Esther1:20 | יקר   | subs | <!----> | <!----> | <!----> | NA | NP | preciousness | persian | discourse   | <!----> | <!----> |\n",
       "| 191 | Esther2:3  | מלכות | subs | <!----> | <!----> | <!----> | NA | <!----> | kingship     | persian | discourse   | <!----> | <!----> |\n",
       "| 251 | Esther3:8  | מלכות | subs | <!----> | <!----> | <!----> | NA | <!----> | kingship     | persian | discourse   | <!----> | <!----> |\n",
       "| 349 | Esther4:11 | ישׁט   | verb | hif | impf | <!----> | NA | VP | hold         | jew     | discourse   | <!----> | <!----> |\n",
       "| 420 | Esther4:14 | מלכות | subs | <!----> | <!----> | <!----> | NA | <!----> | kingship     | jew     | discourse   | <!----> | <!----> |\n",
       "| 479 | Esther5:3  | מלכות | subs | <!----> | <!----> | <!----> | NA | <!----> | kingship     | persian | discourse   | <!----> | <!----> |\n",
       "| 512 | Esther5:6  | מלכות | subs | <!----> | <!----> | <!----> | NA | <!----> | kingship     | persian | discourse   | <!----> | <!----> |\n",
       "| 614 | Esther6:3  | יקר   | subs | <!----> | <!----> | <!----> | NA | NP | preciousness | persian | discourse   | <!----> | <!----> |\n",
       "| 647 | Esther6:6  | יקר   | subs | <!----> | <!----> | <!----> | NA | <!----> | preciousness | persian | discourse   | <!----> | <!----> |\n",
       "| 655 | Esther6:6  | יקר   | subs | <!----> | <!----> | <!----> | NA | NP | preciousness | persian | discourse   | <!----> | <!----> |\n",
       "| 664 | Esther6:7  | יקר   | subs | <!----> | <!----> | <!----> | NA | <!----> | preciousness | persian | discourse   | <!----> | <!----> |\n",
       "| 667 | Esther6:8  | מלכות | subs | <!----> | <!----> | <!----> | NA | <!----> | kingship     | persian | discourse   | <!----> | <!----> |\n",
       "| 684 | Esther6:8  | מלכות | subs | <!----> | <!----> | <!----> | NA | <!----> | kingship     | persian | discourse   | <!----> | <!----> |\n",
       "| 713 | Esther6:9  | יקר   | subs | <!----> | <!----> | <!----> | NA | <!----> | preciousness | persian | discourse   | <!----> | <!----> |\n",
       "| 737 | Esther6:9  | יקר   | subs | <!----> | <!----> | <!----> | NA | <!----> | preciousness | persian | discourse   | <!----> | <!----> |\n",
       "| 780 | Esther6:11 | יקר   | subs | <!----> | <!----> | <!----> | NA | <!----> | preciousness | persian | discourse   | <!----> | <!----> |\n",
       "| 815 | Esther7:2  | מלכות | subs | <!----> | <!----> | <!----> | NA | <!----> | kingship     | persian | discourse   | <!----> | <!----> |\n",
       "| 1037 | Esther8:8  | כתב   | subs | <!----> | <!----> | <!----> | NA | NP | writing      | persian | discourse   | <!----> | <!----> |\n",
       "| 1462 | Esther1:2  | מלכות | subs | <!----> | <!----> | <!----> | NA | <!----> | kingship     | author  | description | <!----> | <!----> |\n",
       "| 1497 | Esther1:4  | מלכות | subs | <!----> | <!----> | <!----> | NA | <!----> | kingship     | author  | description | <!----> | <!----> |\n",
       "| 1500 | Esther1:4  | יקר   | subs | <!----> | <!----> | <!----> | NA | <!----> | preciousness | author  | description | <!----> | <!----> |\n",
       "| 1585 | Esther1:7  | מלכות | subs | <!----> | <!----> | <!----> | NA | <!----> | kingship     | author  | description | <!----> | <!----> |\n",
       "| 1598 | Esther1:8  | אנס   | verb | qal | ptca | <!----> | NA | NP | compel       | author  | description | <!----> | <!----> |\n",
       "| 1624 | Esther1:9  | מלכות | subs | <!----> | <!----> | <!----> | NA | <!----> | kingship     | author  | description | <!----> | <!----> |\n",
       "| 1676 | Esther1:11 | מלכות | subs | <!----> | <!----> | <!----> | NA | <!----> | kingship     | author  | description | <!----> | <!----> |\n",
       "| 1762 | Esther1:14 | מלכות | subs | <!----> | <!----> | <!----> | NA | <!----> | kingship     | author  | description | <!----> | <!----> |\n",
       "| 1804 | Esther1:22 | כתב   | subs | <!----> | <!----> | <!----> | NA | <!----> | writing      | author  | description | <!----> | <!----> |\n",
       "| 2204 | Esther2:16 | מלכות | subs | <!----> | <!----> | <!----> | NA | <!----> | kingship     | author  | description | <!----> | <!----> |\n",
       "| 2214 | Esther2:16 | מלכות | subs | <!----> | <!----> | <!----> | NA | <!----> | kingship     | author  | description | <!----> | <!----> |\n",
       "| 2242 | Esther2:17 | מלכות | subs | <!----> | <!----> | <!----> | NA | <!----> | kingship     | author  | description | <!----> | <!----> |\n",
       "| 2527 | Esther3:6  | מלכות | subs | <!----> | <!----> | <!----> | NA | <!----> | kingship     | author  | description | <!----> | <!----> |\n",
       "| 2647 | Esther3:12 | כתב   | subs | <!----> | <!----> | <!----> | NA | <!----> | writing      | author  | description | <!----> | <!----> |\n",
       "| 2668 | Esther3:14 | כתב   | subs | <!----> | <!----> | <!----> | NA | <!----> | writing      | author  | description | <!----> | <!----> |\n",
       "| 2899 | Esther4:8  | כתב   | subs | <!----> | <!----> | <!----> | NA | <!----> | writing      | author  | description | <!----> | <!----> |\n",
       "| 2999 | Esther5:1  | מלכות | subs | <!----> | <!----> | <!----> | NA | NP | kingship     | author  | description | <!----> | <!----> |\n",
       "| 3019 | Esther5:1  | מלכות | subs | <!----> | <!----> | <!----> | NA | <!----> | kingship     | author  | description | <!----> | <!----> |\n",
       "| 3023 | Esther5:1  | מלכות | subs | <!----> | <!----> | <!----> | NA | <!----> | kingship     | author  | description | <!----> | <!----> |\n",
       "| 3047 | Esther5:2  | ישׁט   | verb | hif | wayq | <!----> | NA | VP | hold         | author  | description | <!----> | <!----> |\n",
       "| 3673 | Esther8:4  | ישׁט   | verb | hif | wayq | <!----> | NA | VP | hold         | author  | description | <!----> | <!----> |\n",
       "| 3767 | Esther8:9  | כתב   | subs | <!----> | <!----> | <!----> | NA | <!----> | writing      | author  | description | <!----> | <!----> |\n",
       "| 3779 | Esther8:9  | כתב   | subs | <!----> | <!----> | <!----> | NA | <!----> | writing      | author  | description | <!----> | <!----> |\n",
       "| 3812 | Esther8:13 | כתב   | subs | <!----> | <!----> | <!----> | NA | <!----> | writing      | author  | description | <!----> | <!----> |\n",
       "| 3874 | Esther8:15 | מלכות | subs | <!----> | <!----> | <!----> | NA | <!----> | kingship     | author  | description | <!----> | <!----> |\n",
       "| 3904 | Esther8:16 | יקר   | subs | <!----> | <!----> | <!----> | NA | <!----> | preciousness | author  | description | <!----> | <!----> |\n",
       "| 3976 | Esther9:1  | שׁלט   | verb | qal | infc | <!----> | NA | <!----> | dominate     | author  | description | <!----> | <!----> |\n",
       "| 3982 | Esther9:1  | שׁלט   | verb | qal | impf | <!----> | NA | VP | dominate     | author  | description | <!----> | <!----> |\n",
       "| 4406 | Esther9:27 | כתב   | subs | <!----> | <!----> | <!----> | NA | <!----> | writing      | author  | description | <!----> | <!----> |\n",
       "| 4409 | Esther9:27 | זמן   | subs | <!----> | <!----> | <!----> | NA | <!----> | season       | author  | description | <!----> | <!----> |\n",
       "| 4497 | Esther9:30 | מלכות | subs | <!----> | <!----> | <!----> | NA | <!----> | kingship     | author  | description | <!----> | <!----> |\n",
       "| 4512 | Esther9:31 | זמן   | subs | <!----> | <!----> | <!----> | NA | <!----> | season       | author  | description | <!----> | <!----> |\n",
       "\n"
      ],
      "text/plain": [
       "     book       lex   sp   vs  vt   ctyp cnode ptyp gloss        speaker\n",
       "115  Esther1:19 מלכות subs               NA         kingship     persian\n",
       "129  Esther1:19 מלכות subs               NA    NP   kingship     persian\n",
       "157  Esther1:20 מלכות subs               NA         kingship     persian\n",
       "166  Esther1:20 יקר   subs               NA    NP   preciousness persian\n",
       "191  Esther2:3  מלכות subs               NA         kingship     persian\n",
       "251  Esther3:8  מלכות subs               NA         kingship     persian\n",
       "349  Esther4:11 ישׁט   verb hif impf      NA    VP   hold         jew    \n",
       "420  Esther4:14 מלכות subs               NA         kingship     jew    \n",
       "479  Esther5:3  מלכות subs               NA         kingship     persian\n",
       "512  Esther5:6  מלכות subs               NA         kingship     persian\n",
       "614  Esther6:3  יקר   subs               NA    NP   preciousness persian\n",
       "647  Esther6:6  יקר   subs               NA         preciousness persian\n",
       "655  Esther6:6  יקר   subs               NA    NP   preciousness persian\n",
       "664  Esther6:7  יקר   subs               NA         preciousness persian\n",
       "667  Esther6:8  מלכות subs               NA         kingship     persian\n",
       "684  Esther6:8  מלכות subs               NA         kingship     persian\n",
       "713  Esther6:9  יקר   subs               NA         preciousness persian\n",
       "737  Esther6:9  יקר   subs               NA         preciousness persian\n",
       "780  Esther6:11 יקר   subs               NA         preciousness persian\n",
       "815  Esther7:2  מלכות subs               NA         kingship     persian\n",
       "1037 Esther8:8  כתב   subs               NA    NP   writing      persian\n",
       "1462 Esther1:2  מלכות subs               NA         kingship     author \n",
       "1497 Esther1:4  מלכות subs               NA         kingship     author \n",
       "1500 Esther1:4  יקר   subs               NA         preciousness author \n",
       "1585 Esther1:7  מלכות subs               NA         kingship     author \n",
       "1598 Esther1:8  אנס   verb qal ptca      NA    NP   compel       author \n",
       "1624 Esther1:9  מלכות subs               NA         kingship     author \n",
       "1676 Esther1:11 מלכות subs               NA         kingship     author \n",
       "1762 Esther1:14 מלכות subs               NA         kingship     author \n",
       "1804 Esther1:22 כתב   subs               NA         writing      author \n",
       "2204 Esther2:16 מלכות subs               NA         kingship     author \n",
       "2214 Esther2:16 מלכות subs               NA         kingship     author \n",
       "2242 Esther2:17 מלכות subs               NA         kingship     author \n",
       "2527 Esther3:6  מלכות subs               NA         kingship     author \n",
       "2647 Esther3:12 כתב   subs               NA         writing      author \n",
       "2668 Esther3:14 כתב   subs               NA         writing      author \n",
       "2899 Esther4:8  כתב   subs               NA         writing      author \n",
       "2999 Esther5:1  מלכות subs               NA    NP   kingship     author \n",
       "3019 Esther5:1  מלכות subs               NA         kingship     author \n",
       "3023 Esther5:1  מלכות subs               NA         kingship     author \n",
       "3047 Esther5:2  ישׁט   verb hif wayq      NA    VP   hold         author \n",
       "3673 Esther8:4  ישׁט   verb hif wayq      NA    VP   hold         author \n",
       "3767 Esther8:9  כתב   subs               NA         writing      author \n",
       "3779 Esther8:9  כתב   subs               NA         writing      author \n",
       "3812 Esther8:13 כתב   subs               NA         writing      author \n",
       "3874 Esther8:15 מלכות subs               NA         kingship     author \n",
       "3904 Esther8:16 יקר   subs               NA         preciousness author \n",
       "3976 Esther9:1  שׁלט   verb qal infc      NA         dominate     author \n",
       "3982 Esther9:1  שׁלט   verb qal impf      NA    VP   dominate     author \n",
       "4406 Esther9:27 כתב   subs               NA         writing      author \n",
       "4409 Esther9:27 זמן   subs               NA         season       author \n",
       "4497 Esther9:30 מלכות subs               NA         kingship     author \n",
       "4512 Esther9:31 זמן   subs               NA         season       author \n",
       "     ttype       clausespeaker clausettype\n",
       "115  discourse                            \n",
       "129  discourse                            \n",
       "157  discourse                            \n",
       "166  discourse                            \n",
       "191  discourse                            \n",
       "251  discourse                            \n",
       "349  discourse                            \n",
       "420  discourse                            \n",
       "479  discourse                            \n",
       "512  discourse                            \n",
       "614  discourse                            \n",
       "647  discourse                            \n",
       "655  discourse                            \n",
       "664  discourse                            \n",
       "667  discourse                            \n",
       "684  discourse                            \n",
       "713  discourse                            \n",
       "737  discourse                            \n",
       "780  discourse                            \n",
       "815  discourse                            \n",
       "1037 discourse                            \n",
       "1462 description                          \n",
       "1497 description                          \n",
       "1500 description                          \n",
       "1585 description                          \n",
       "1598 description                          \n",
       "1624 description                          \n",
       "1676 description                          \n",
       "1762 description                          \n",
       "1804 description                          \n",
       "2204 description                          \n",
       "2214 description                          \n",
       "2242 description                          \n",
       "2527 description                          \n",
       "2647 description                          \n",
       "2668 description                          \n",
       "2899 description                          \n",
       "2999 description                          \n",
       "3019 description                          \n",
       "3023 description                          \n",
       "3047 description                          \n",
       "3673 description                          \n",
       "3767 description                          \n",
       "3779 description                          \n",
       "3812 description                          \n",
       "3874 description                          \n",
       "3904 description                          \n",
       "3976 description                          \n",
       "3982 description                          \n",
       "4406 description                          \n",
       "4409 description                          \n",
       "4497 description                          \n",
       "4512 description                          "
      ]
     },
     "metadata": {},
     "output_type": "display_data"
    },
    {
     "data": {
      "text/plain": [
       "         \n",
       "          description discourse\n",
       "  author           32         0\n",
       "  jew               0         2\n",
       "  persian           0        19"
      ]
     },
     "metadata": {},
     "output_type": "display_data"
    }
   ],
   "source": [
    "late_lex_list = total[(total$lex==\"אנס\" | \n",
    "      total$lex==\"זמן\" | \n",
    "      total$lex==\"ישׁט\" | \n",
    "      total$lex==\"יקר\" | \n",
    "      (total$lex==\"כתב\" & total$sp==\"subs\") | \n",
    "      total$lex==\"מלכות\" | \n",
    "      total$lex==\"שׁלט\") \n",
    "#       &\n",
    "#       total$speaker==\"jew\"\n",
    "      , \n",
    "     ]\n",
    "\n",
    "late_lex_list\n",
    "table(late_lex_list$speaker, late_lex_list$ttype)"
   ]
  },
  {
   "cell_type": "markdown",
   "id": "d078739e-9099-4933-a5af-f976c04e2fee",
   "metadata": {},
   "source": [
    "hapax"
   ]
  },
  {
   "cell_type": "code",
   "execution_count": 10,
   "id": "7346803b-b7bc-44f2-870e-219dda335bf8",
   "metadata": {},
   "outputs": [
    {
     "data": {
      "text/html": [
       "<table class=\"dataframe\">\n",
       "<caption>A data.frame: 36 × 13</caption>\n",
       "<thead>\n",
       "\t<tr><th></th><th scope=col>book</th><th scope=col>lex</th><th scope=col>sp</th><th scope=col>vs</th><th scope=col>vt</th><th scope=col>ctyp</th><th scope=col>cnode</th><th scope=col>ptyp</th><th scope=col>gloss</th><th scope=col>speaker</th><th scope=col>ttype</th><th scope=col>clausespeaker</th><th scope=col>clausettype</th></tr>\n",
       "\t<tr><th></th><th scope=col>&lt;chr&gt;</th><th scope=col>&lt;chr&gt;</th><th scope=col>&lt;chr&gt;</th><th scope=col>&lt;chr&gt;</th><th scope=col>&lt;chr&gt;</th><th scope=col>&lt;chr&gt;</th><th scope=col>&lt;int&gt;</th><th scope=col>&lt;chr&gt;</th><th scope=col>&lt;chr&gt;</th><th scope=col>&lt;chr&gt;</th><th scope=col>&lt;chr&gt;</th><th scope=col>&lt;chr&gt;</th><th scope=col>&lt;chr&gt;</th></tr>\n",
       "</thead>\n",
       "<tbody>\n",
       "\t<tr><th scope=row>15</th><td>Esther1:15</td><td>מאמר  </td><td>subs</td><td>   </td><td>    </td><td></td><td>NA</td><td>  </td><td>word       </td><td>persian</td><td>discourse  </td><td></td><td></td></tr>\n",
       "\t<tr><th scope=row>105</th><td>Esther1:18</td><td>בזיון </td><td>subs</td><td>   </td><td>    </td><td></td><td>NA</td><td>NP</td><td>contempt   </td><td>persian</td><td>discourse  </td><td></td><td></td></tr>\n",
       "\t<tr><th scope=row>219</th><td>Esther2:3 </td><td>תמרוק </td><td>subs</td><td>   </td><td>    </td><td></td><td>NA</td><td>NP</td><td>massage    </td><td>persian</td><td>discourse  </td><td></td><td></td></tr>\n",
       "\t<tr><th scope=row>295</th><td>Esther3:9 </td><td>גנז   </td><td>subs</td><td>   </td><td>    </td><td></td><td>NA</td><td>  </td><td>treasury   </td><td>persian</td><td>discourse  </td><td></td><td></td></tr>\n",
       "\t<tr><th scope=row>349</th><td>Esther4:11</td><td>ישׁט   </td><td>verb</td><td>hif</td><td>impf</td><td></td><td>NA</td><td>VP</td><td>hold       </td><td>jew    </td><td>discourse  </td><td></td><td></td></tr>\n",
       "\t<tr><th scope=row>354</th><td>Esther4:11</td><td>שׁרביט </td><td>subs</td><td>   </td><td>    </td><td></td><td>NA</td><td>  </td><td>staff      </td><td>jew    </td><td>discourse  </td><td></td><td></td></tr>\n",
       "\t<tr><th scope=row>395</th><td>Esther4:14</td><td>הצלה  </td><td>subs</td><td>   </td><td>    </td><td></td><td>NA</td><td>  </td><td>deliverance</td><td>jew    </td><td>discourse  </td><td></td><td></td></tr>\n",
       "\t<tr><th scope=row>683</th><td>Esther6:8 </td><td>כתר   </td><td>subs</td><td>   </td><td>    </td><td></td><td>NA</td><td>NP</td><td>headdress  </td><td>persian</td><td>discourse  </td><td></td><td></td></tr>\n",
       "\t<tr><th scope=row>867</th><td>Esther7:4 </td><td>נזק   </td><td>subs</td><td>   </td><td>    </td><td></td><td>NA</td><td>  </td><td>damage     </td><td>jew    </td><td>discourse  </td><td></td><td></td></tr>\n",
       "\t<tr><th scope=row>994</th><td>Esther8:6 </td><td>אבדן  </td><td>subs</td><td>   </td><td>    </td><td></td><td>NA</td><td>  </td><td>destruction</td><td>jew    </td><td>discourse  </td><td></td><td></td></tr>\n",
       "\t<tr><th scope=row>1541</th><td>Esther1:5 </td><td>ביתן  </td><td>subs</td><td>   </td><td>    </td><td></td><td>NA</td><td>  </td><td>palace     </td><td>author </td><td>description</td><td></td><td></td></tr>\n",
       "\t<tr><th scope=row>1545</th><td>Esther1:6 </td><td>כרפס  </td><td>subs</td><td>   </td><td>    </td><td></td><td>NA</td><td>  </td><td>linen      </td><td>author </td><td>description</td><td></td><td></td></tr>\n",
       "\t<tr><th scope=row>1566</th><td>Esther1:6 </td><td><span style=white-space:pre-wrap>בהט   </span></td><td>subs</td><td><span style=white-space:pre-wrap>   </span></td><td><span style=white-space:pre-wrap>    </span></td><td></td><td>NA</td><td><span style=white-space:pre-wrap>  </span></td><td>&lt;uncertain&gt;</td><td>author </td><td>description</td><td></td><td></td></tr>\n",
       "\t<tr><th scope=row>1570</th><td>Esther1:6 </td><td>דר    </td><td>subs</td><td>   </td><td>    </td><td></td><td>NA</td><td>  </td><td>pavement   </td><td>author </td><td>description</td><td></td><td></td></tr>\n",
       "\t<tr><th scope=row>1572</th><td>Esther1:6 </td><td>סחרת  </td><td>subs</td><td>   </td><td>    </td><td></td><td>NA</td><td>  </td><td>pavement   </td><td>author </td><td>description</td><td></td><td></td></tr>\n",
       "\t<tr><th scope=row>1593</th><td>Esther1:8 </td><td>שׁתיה  </td><td>subs</td><td>   </td><td>    </td><td></td><td>NA</td><td>  </td><td>drinking   </td><td>author </td><td>description</td><td></td><td></td></tr>\n",
       "\t<tr><th scope=row>1598</th><td>Esther1:8 </td><td>אנס   </td><td>verb</td><td>qal</td><td>ptca</td><td></td><td>NA</td><td>NP</td><td>compel     </td><td>author </td><td>description</td><td></td><td></td></tr>\n",
       "\t<tr><th scope=row>1675</th><td>Esther1:11</td><td>כתר   </td><td>subs</td><td>   </td><td>    </td><td></td><td>NA</td><td>  </td><td>headdress  </td><td>author </td><td>description</td><td></td><td></td></tr>\n",
       "\t<tr><th scope=row>1970</th><td>Esther2:9 </td><td>תמרוק </td><td>subs</td><td>   </td><td>    </td><td></td><td>NA</td><td>  </td><td>massage    </td><td>author </td><td>description</td><td></td><td></td></tr>\n",
       "\t<tr><th scope=row>2076</th><td>Esther2:12</td><td>מרוקים</td><td>subs</td><td>   </td><td>    </td><td></td><td>NA</td><td>  </td><td>massage    </td><td>author </td><td>description</td><td></td><td></td></tr>\n",
       "\t<tr><th scope=row>2091</th><td>Esther2:12</td><td>תמרוק </td><td>subs</td><td>   </td><td>    </td><td></td><td>NA</td><td>  </td><td>massage    </td><td>author </td><td>description</td><td></td><td></td></tr>\n",
       "\t<tr><th scope=row>2241</th><td>Esther2:17</td><td>כתר   </td><td>subs</td><td>   </td><td>    </td><td></td><td>NA</td><td>NP</td><td>headdress  </td><td>author </td><td>description</td><td></td><td></td></tr>\n",
       "\t<tr><th scope=row>2264</th><td>Esther2:18</td><td>הנחה  </td><td>subs</td><td>   </td><td>    </td><td></td><td>NA</td><td>NP</td><td>release    </td><td>author </td><td>description</td><td></td><td></td></tr>\n",
       "\t<tr><th scope=row>2319</th><td>Esther2:20</td><td>מאמר  </td><td>subs</td><td>   </td><td>    </td><td></td><td>NA</td><td>  </td><td>word       </td><td>author </td><td>description</td><td></td><td></td></tr>\n",
       "\t<tr><th scope=row>2327</th><td>Esther2:20</td><td>אמנה  </td><td>subs</td><td>   </td><td>    </td><td></td><td>NA</td><td>  </td><td>care       </td><td>author </td><td>description</td><td></td><td></td></tr>\n",
       "\t<tr><th scope=row>2888</th><td>Esther4:7 </td><td>גנז   </td><td>subs</td><td>   </td><td>    </td><td></td><td>NA</td><td>  </td><td>treasury   </td><td>author </td><td>description</td><td></td><td></td></tr>\n",
       "\t<tr><th scope=row>3047</th><td>Esther5:2 </td><td>ישׁט   </td><td>verb</td><td>hif</td><td>wayq</td><td></td><td>NA</td><td>VP</td><td>hold       </td><td>author </td><td>description</td><td></td><td></td></tr>\n",
       "\t<tr><th scope=row>3053</th><td>Esther5:2 </td><td>שׁרביט </td><td>subs</td><td>   </td><td>    </td><td></td><td>NA</td><td>  </td><td>staff      </td><td>author </td><td>description</td><td></td><td></td></tr>\n",
       "\t<tr><th scope=row>3067</th><td>Esther5:2 </td><td>שׁרביט </td><td>subs</td><td>   </td><td>    </td><td></td><td>NA</td><td>  </td><td>staff      </td><td>author </td><td>description</td><td></td><td></td></tr>\n",
       "\t<tr><th scope=row>3493</th><td>Esther7:7 </td><td>ביתן  </td><td>subs</td><td>   </td><td>    </td><td></td><td>NA</td><td>  </td><td>palace     </td><td>author </td><td>description</td><td></td><td></td></tr>\n",
       "\t<tr><th scope=row>3523</th><td>Esther7:8 </td><td>ביתן  </td><td>subs</td><td>   </td><td>    </td><td></td><td>NA</td><td>  </td><td>palace     </td><td>author </td><td>description</td><td></td><td></td></tr>\n",
       "\t<tr><th scope=row>3673</th><td>Esther8:4 </td><td>ישׁט   </td><td>verb</td><td>hif</td><td>wayq</td><td></td><td>NA</td><td>VP</td><td>hold       </td><td>author </td><td>description</td><td></td><td></td></tr>\n",
       "\t<tr><th scope=row>3679</th><td>Esther8:4 </td><td>שׁרביט </td><td>subs</td><td>   </td><td>    </td><td></td><td>NA</td><td>  </td><td>staff      </td><td>author </td><td>description</td><td></td><td></td></tr>\n",
       "\t<tr><th scope=row>3883</th><td>Esther8:15</td><td>תכריך </td><td>subs</td><td>   </td><td>    </td><td></td><td>NA</td><td>  </td><td>robe       </td><td>author </td><td>description</td><td></td><td></td></tr>\n",
       "\t<tr><th scope=row>4082</th><td>Esther9:5 </td><td>אבדן  </td><td>subs</td><td>   </td><td>    </td><td></td><td>NA</td><td>  </td><td>destruction</td><td>author </td><td>description</td><td></td><td></td></tr>\n",
       "\t<tr><th scope=row>4539</th><td>Esther9:32</td><td>מאמר  </td><td>subs</td><td>   </td><td>    </td><td></td><td>NA</td><td>NP</td><td>word       </td><td>author </td><td>description</td><td></td><td></td></tr>\n",
       "</tbody>\n",
       "</table>\n"
      ],
      "text/latex": [
       "A data.frame: 36 × 13\n",
       "\\begin{tabular}{r|lllllllllllll}\n",
       "  & book & lex & sp & vs & vt & ctyp & cnode & ptyp & gloss & speaker & ttype & clausespeaker & clausettype\\\\\n",
       "  & <chr> & <chr> & <chr> & <chr> & <chr> & <chr> & <int> & <chr> & <chr> & <chr> & <chr> & <chr> & <chr>\\\\\n",
       "\\hline\n",
       "\t15 & Esther1:15 & מאמר   & subs &     &      &  & NA &    & word        & persian & discourse   &  & \\\\\n",
       "\t105 & Esther1:18 & בזיון  & subs &     &      &  & NA & NP & contempt    & persian & discourse   &  & \\\\\n",
       "\t219 & Esther2:3  & תמרוק  & subs &     &      &  & NA & NP & massage     & persian & discourse   &  & \\\\\n",
       "\t295 & Esther3:9  & גנז    & subs &     &      &  & NA &    & treasury    & persian & discourse   &  & \\\\\n",
       "\t349 & Esther4:11 & ישׁט    & verb & hif & impf &  & NA & VP & hold        & jew     & discourse   &  & \\\\\n",
       "\t354 & Esther4:11 & שׁרביט  & subs &     &      &  & NA &    & staff       & jew     & discourse   &  & \\\\\n",
       "\t395 & Esther4:14 & הצלה   & subs &     &      &  & NA &    & deliverance & jew     & discourse   &  & \\\\\n",
       "\t683 & Esther6:8  & כתר    & subs &     &      &  & NA & NP & headdress   & persian & discourse   &  & \\\\\n",
       "\t867 & Esther7:4  & נזק    & subs &     &      &  & NA &    & damage      & jew     & discourse   &  & \\\\\n",
       "\t994 & Esther8:6  & אבדן   & subs &     &      &  & NA &    & destruction & jew     & discourse   &  & \\\\\n",
       "\t1541 & Esther1:5  & ביתן   & subs &     &      &  & NA &    & palace      & author  & description &  & \\\\\n",
       "\t1545 & Esther1:6  & כרפס   & subs &     &      &  & NA &    & linen       & author  & description &  & \\\\\n",
       "\t1566 & Esther1:6  & בהט    & subs &     &      &  & NA &    & <uncertain> & author  & description &  & \\\\\n",
       "\t1570 & Esther1:6  & דר     & subs &     &      &  & NA &    & pavement    & author  & description &  & \\\\\n",
       "\t1572 & Esther1:6  & סחרת   & subs &     &      &  & NA &    & pavement    & author  & description &  & \\\\\n",
       "\t1593 & Esther1:8  & שׁתיה   & subs &     &      &  & NA &    & drinking    & author  & description &  & \\\\\n",
       "\t1598 & Esther1:8  & אנס    & verb & qal & ptca &  & NA & NP & compel      & author  & description &  & \\\\\n",
       "\t1675 & Esther1:11 & כתר    & subs &     &      &  & NA &    & headdress   & author  & description &  & \\\\\n",
       "\t1970 & Esther2:9  & תמרוק  & subs &     &      &  & NA &    & massage     & author  & description &  & \\\\\n",
       "\t2076 & Esther2:12 & מרוקים & subs &     &      &  & NA &    & massage     & author  & description &  & \\\\\n",
       "\t2091 & Esther2:12 & תמרוק  & subs &     &      &  & NA &    & massage     & author  & description &  & \\\\\n",
       "\t2241 & Esther2:17 & כתר    & subs &     &      &  & NA & NP & headdress   & author  & description &  & \\\\\n",
       "\t2264 & Esther2:18 & הנחה   & subs &     &      &  & NA & NP & release     & author  & description &  & \\\\\n",
       "\t2319 & Esther2:20 & מאמר   & subs &     &      &  & NA &    & word        & author  & description &  & \\\\\n",
       "\t2327 & Esther2:20 & אמנה   & subs &     &      &  & NA &    & care        & author  & description &  & \\\\\n",
       "\t2888 & Esther4:7  & גנז    & subs &     &      &  & NA &    & treasury    & author  & description &  & \\\\\n",
       "\t3047 & Esther5:2  & ישׁט    & verb & hif & wayq &  & NA & VP & hold        & author  & description &  & \\\\\n",
       "\t3053 & Esther5:2  & שׁרביט  & subs &     &      &  & NA &    & staff       & author  & description &  & \\\\\n",
       "\t3067 & Esther5:2  & שׁרביט  & subs &     &      &  & NA &    & staff       & author  & description &  & \\\\\n",
       "\t3493 & Esther7:7  & ביתן   & subs &     &      &  & NA &    & palace      & author  & description &  & \\\\\n",
       "\t3523 & Esther7:8  & ביתן   & subs &     &      &  & NA &    & palace      & author  & description &  & \\\\\n",
       "\t3673 & Esther8:4  & ישׁט    & verb & hif & wayq &  & NA & VP & hold        & author  & description &  & \\\\\n",
       "\t3679 & Esther8:4  & שׁרביט  & subs &     &      &  & NA &    & staff       & author  & description &  & \\\\\n",
       "\t3883 & Esther8:15 & תכריך  & subs &     &      &  & NA &    & robe        & author  & description &  & \\\\\n",
       "\t4082 & Esther9:5  & אבדן   & subs &     &      &  & NA &    & destruction & author  & description &  & \\\\\n",
       "\t4539 & Esther9:32 & מאמר   & subs &     &      &  & NA & NP & word        & author  & description &  & \\\\\n",
       "\\end{tabular}\n"
      ],
      "text/markdown": [
       "\n",
       "A data.frame: 36 × 13\n",
       "\n",
       "| <!--/--> | book &lt;chr&gt; | lex &lt;chr&gt; | sp &lt;chr&gt; | vs &lt;chr&gt; | vt &lt;chr&gt; | ctyp &lt;chr&gt; | cnode &lt;int&gt; | ptyp &lt;chr&gt; | gloss &lt;chr&gt; | speaker &lt;chr&gt; | ttype &lt;chr&gt; | clausespeaker &lt;chr&gt; | clausettype &lt;chr&gt; |\n",
       "|---|---|---|---|---|---|---|---|---|---|---|---|---|---|\n",
       "| 15 | Esther1:15 | מאמר   | subs | <!----> | <!----> | <!----> | NA | <!----> | word        | persian | discourse   | <!----> | <!----> |\n",
       "| 105 | Esther1:18 | בזיון  | subs | <!----> | <!----> | <!----> | NA | NP | contempt    | persian | discourse   | <!----> | <!----> |\n",
       "| 219 | Esther2:3  | תמרוק  | subs | <!----> | <!----> | <!----> | NA | NP | massage     | persian | discourse   | <!----> | <!----> |\n",
       "| 295 | Esther3:9  | גנז    | subs | <!----> | <!----> | <!----> | NA | <!----> | treasury    | persian | discourse   | <!----> | <!----> |\n",
       "| 349 | Esther4:11 | ישׁט    | verb | hif | impf | <!----> | NA | VP | hold        | jew     | discourse   | <!----> | <!----> |\n",
       "| 354 | Esther4:11 | שׁרביט  | subs | <!----> | <!----> | <!----> | NA | <!----> | staff       | jew     | discourse   | <!----> | <!----> |\n",
       "| 395 | Esther4:14 | הצלה   | subs | <!----> | <!----> | <!----> | NA | <!----> | deliverance | jew     | discourse   | <!----> | <!----> |\n",
       "| 683 | Esther6:8  | כתר    | subs | <!----> | <!----> | <!----> | NA | NP | headdress   | persian | discourse   | <!----> | <!----> |\n",
       "| 867 | Esther7:4  | נזק    | subs | <!----> | <!----> | <!----> | NA | <!----> | damage      | jew     | discourse   | <!----> | <!----> |\n",
       "| 994 | Esther8:6  | אבדן   | subs | <!----> | <!----> | <!----> | NA | <!----> | destruction | jew     | discourse   | <!----> | <!----> |\n",
       "| 1541 | Esther1:5  | ביתן   | subs | <!----> | <!----> | <!----> | NA | <!----> | palace      | author  | description | <!----> | <!----> |\n",
       "| 1545 | Esther1:6  | כרפס   | subs | <!----> | <!----> | <!----> | NA | <!----> | linen       | author  | description | <!----> | <!----> |\n",
       "| 1566 | Esther1:6  | בהט    | subs | <!----> | <!----> | <!----> | NA | <!----> | &lt;uncertain&gt; | author  | description | <!----> | <!----> |\n",
       "| 1570 | Esther1:6  | דר     | subs | <!----> | <!----> | <!----> | NA | <!----> | pavement    | author  | description | <!----> | <!----> |\n",
       "| 1572 | Esther1:6  | סחרת   | subs | <!----> | <!----> | <!----> | NA | <!----> | pavement    | author  | description | <!----> | <!----> |\n",
       "| 1593 | Esther1:8  | שׁתיה   | subs | <!----> | <!----> | <!----> | NA | <!----> | drinking    | author  | description | <!----> | <!----> |\n",
       "| 1598 | Esther1:8  | אנס    | verb | qal | ptca | <!----> | NA | NP | compel      | author  | description | <!----> | <!----> |\n",
       "| 1675 | Esther1:11 | כתר    | subs | <!----> | <!----> | <!----> | NA | <!----> | headdress   | author  | description | <!----> | <!----> |\n",
       "| 1970 | Esther2:9  | תמרוק  | subs | <!----> | <!----> | <!----> | NA | <!----> | massage     | author  | description | <!----> | <!----> |\n",
       "| 2076 | Esther2:12 | מרוקים | subs | <!----> | <!----> | <!----> | NA | <!----> | massage     | author  | description | <!----> | <!----> |\n",
       "| 2091 | Esther2:12 | תמרוק  | subs | <!----> | <!----> | <!----> | NA | <!----> | massage     | author  | description | <!----> | <!----> |\n",
       "| 2241 | Esther2:17 | כתר    | subs | <!----> | <!----> | <!----> | NA | NP | headdress   | author  | description | <!----> | <!----> |\n",
       "| 2264 | Esther2:18 | הנחה   | subs | <!----> | <!----> | <!----> | NA | NP | release     | author  | description | <!----> | <!----> |\n",
       "| 2319 | Esther2:20 | מאמר   | subs | <!----> | <!----> | <!----> | NA | <!----> | word        | author  | description | <!----> | <!----> |\n",
       "| 2327 | Esther2:20 | אמנה   | subs | <!----> | <!----> | <!----> | NA | <!----> | care        | author  | description | <!----> | <!----> |\n",
       "| 2888 | Esther4:7  | גנז    | subs | <!----> | <!----> | <!----> | NA | <!----> | treasury    | author  | description | <!----> | <!----> |\n",
       "| 3047 | Esther5:2  | ישׁט    | verb | hif | wayq | <!----> | NA | VP | hold        | author  | description | <!----> | <!----> |\n",
       "| 3053 | Esther5:2  | שׁרביט  | subs | <!----> | <!----> | <!----> | NA | <!----> | staff       | author  | description | <!----> | <!----> |\n",
       "| 3067 | Esther5:2  | שׁרביט  | subs | <!----> | <!----> | <!----> | NA | <!----> | staff       | author  | description | <!----> | <!----> |\n",
       "| 3493 | Esther7:7  | ביתן   | subs | <!----> | <!----> | <!----> | NA | <!----> | palace      | author  | description | <!----> | <!----> |\n",
       "| 3523 | Esther7:8  | ביתן   | subs | <!----> | <!----> | <!----> | NA | <!----> | palace      | author  | description | <!----> | <!----> |\n",
       "| 3673 | Esther8:4  | ישׁט    | verb | hif | wayq | <!----> | NA | VP | hold        | author  | description | <!----> | <!----> |\n",
       "| 3679 | Esther8:4  | שׁרביט  | subs | <!----> | <!----> | <!----> | NA | <!----> | staff       | author  | description | <!----> | <!----> |\n",
       "| 3883 | Esther8:15 | תכריך  | subs | <!----> | <!----> | <!----> | NA | <!----> | robe        | author  | description | <!----> | <!----> |\n",
       "| 4082 | Esther9:5  | אבדן   | subs | <!----> | <!----> | <!----> | NA | <!----> | destruction | author  | description | <!----> | <!----> |\n",
       "| 4539 | Esther9:32 | מאמר   | subs | <!----> | <!----> | <!----> | NA | NP | word        | author  | description | <!----> | <!----> |\n",
       "\n"
      ],
      "text/plain": [
       "     book       lex    sp   vs  vt   ctyp cnode ptyp gloss       speaker\n",
       "15   Esther1:15 מאמר   subs               NA         word        persian\n",
       "105  Esther1:18 בזיון  subs               NA    NP   contempt    persian\n",
       "219  Esther2:3  תמרוק  subs               NA    NP   massage     persian\n",
       "295  Esther3:9  גנז    subs               NA         treasury    persian\n",
       "349  Esther4:11 ישׁט    verb hif impf      NA    VP   hold        jew    \n",
       "354  Esther4:11 שׁרביט  subs               NA         staff       jew    \n",
       "395  Esther4:14 הצלה   subs               NA         deliverance jew    \n",
       "683  Esther6:8  כתר    subs               NA    NP   headdress   persian\n",
       "867  Esther7:4  נזק    subs               NA         damage      jew    \n",
       "994  Esther8:6  אבדן   subs               NA         destruction jew    \n",
       "1541 Esther1:5  ביתן   subs               NA         palace      author \n",
       "1545 Esther1:6  כרפס   subs               NA         linen       author \n",
       "1566 Esther1:6  בהט    subs               NA         <uncertain> author \n",
       "1570 Esther1:6  דר     subs               NA         pavement    author \n",
       "1572 Esther1:6  סחרת   subs               NA         pavement    author \n",
       "1593 Esther1:8  שׁתיה   subs               NA         drinking    author \n",
       "1598 Esther1:8  אנס    verb qal ptca      NA    NP   compel      author \n",
       "1675 Esther1:11 כתר    subs               NA         headdress   author \n",
       "1970 Esther2:9  תמרוק  subs               NA         massage     author \n",
       "2076 Esther2:12 מרוקים subs               NA         massage     author \n",
       "2091 Esther2:12 תמרוק  subs               NA         massage     author \n",
       "2241 Esther2:17 כתר    subs               NA    NP   headdress   author \n",
       "2264 Esther2:18 הנחה   subs               NA    NP   release     author \n",
       "2319 Esther2:20 מאמר   subs               NA         word        author \n",
       "2327 Esther2:20 אמנה   subs               NA         care        author \n",
       "2888 Esther4:7  גנז    subs               NA         treasury    author \n",
       "3047 Esther5:2  ישׁט    verb hif wayq      NA    VP   hold        author \n",
       "3053 Esther5:2  שׁרביט  subs               NA         staff       author \n",
       "3067 Esther5:2  שׁרביט  subs               NA         staff       author \n",
       "3493 Esther7:7  ביתן   subs               NA         palace      author \n",
       "3523 Esther7:8  ביתן   subs               NA         palace      author \n",
       "3673 Esther8:4  ישׁט    verb hif wayq      NA    VP   hold        author \n",
       "3679 Esther8:4  שׁרביט  subs               NA         staff       author \n",
       "3883 Esther8:15 תכריך  subs               NA         robe        author \n",
       "4082 Esther9:5  אבדן   subs               NA         destruction author \n",
       "4539 Esther9:32 מאמר   subs               NA    NP   word        author \n",
       "     ttype       clausespeaker clausettype\n",
       "15   discourse                            \n",
       "105  discourse                            \n",
       "219  discourse                            \n",
       "295  discourse                            \n",
       "349  discourse                            \n",
       "354  discourse                            \n",
       "395  discourse                            \n",
       "683  discourse                            \n",
       "867  discourse                            \n",
       "994  discourse                            \n",
       "1541 description                          \n",
       "1545 description                          \n",
       "1566 description                          \n",
       "1570 description                          \n",
       "1572 description                          \n",
       "1593 description                          \n",
       "1598 description                          \n",
       "1675 description                          \n",
       "1970 description                          \n",
       "2076 description                          \n",
       "2091 description                          \n",
       "2241 description                          \n",
       "2264 description                          \n",
       "2319 description                          \n",
       "2327 description                          \n",
       "2888 description                          \n",
       "3047 description                          \n",
       "3053 description                          \n",
       "3067 description                          \n",
       "3493 description                          \n",
       "3523 description                          \n",
       "3673 description                          \n",
       "3679 description                          \n",
       "3883 description                          \n",
       "4082 description                          \n",
       "4539 description                          "
      ]
     },
     "metadata": {},
     "output_type": "display_data"
    },
    {
     "data": {
      "text/plain": [
       "         \n",
       "          description discourse\n",
       "  author           26         0\n",
       "  jew               0         5\n",
       "  persian           0         5"
      ]
     },
     "metadata": {},
     "output_type": "display_data"
    }
   ],
   "source": [
    "late_lex_list = total[(total$lex==\"אבדן\" | \n",
    "      total$lex==\"אמנה\" | \n",
    "      total$lex==\"אנס\" | \n",
    "      total$lex==\"בהט\" | \n",
    "      total$lex==\"ביתן\" | \n",
    "      total$lex==\"בזיון\" | \n",
    "      total$lex==\"גנז\" |\n",
    "      total$lex==\"דר\" |\n",
    "      total$lex==\"הנחה\" |\n",
    "      total$lex==\"הצלה\" |\n",
    "      total$lex==\"התיהד\" |\n",
    "      total$lex==\"ישׁט\" | \n",
    "      total$lex==\"כרפס\" |\n",
    "      total$lex==\"כתר\" |\n",
    "      total$lex==\"מאמר\" |\n",
    "      total$lex==\"תמרוק\" |\n",
    "      total$lex==\"מרוקים\" |\n",
    "      total$lex==\"סחרת\" |\n",
    "      total$lex==\"נזק\" |\n",
    "      total$lex==\"שׁרביט\" |\n",
    "      total$lex==\"שׁתיה\" |\n",
    "      total$lex==\"תכריך\") \n",
    "#       &\n",
    "#       total$speaker==\"jew\"\n",
    "      , \n",
    "     ]\n",
    "\n",
    "late_lex_list\n",
    "table(late_lex_list$speaker, late_lex_list$ttype)"
   ]
  },
  {
   "cell_type": "markdown",
   "id": "e19bc8c7",
   "metadata": {},
   "source": [
    "## Holmstedt가 주장하는 후기 단어 검색\n",
    "\n",
    "כל יום ויום\n",
    "את + 목적어를 추가해야 함"
   ]
  },
  {
   "cell_type": "code",
   "execution_count": 1,
   "id": "bfed9e32",
   "metadata": {},
   "outputs": [
    {
     "ename": "ERROR",
     "evalue": "Error in eval(expr, envir, enclos): object 'total' not found\n",
     "output_type": "error",
     "traceback": [
      "Error in eval(expr, envir, enclos): object 'total' not found\nTraceback:\n"
     ]
    }
   ],
   "source": [
    "late_lex_list = total[(total$lex==\"מלכות\" | \n",
    "      total$lex==\"יקר\" | \n",
    "      total$lex==\"פתגם\" | \n",
    "      (total$lex==\"כתב\" & total$sp==\"subs\") | \n",
    "      total$lex==\"לשׁון\" |\n",
    "      (total$lex==\"שׁנה\" & total$sp==\"verb\") | \n",
    "      total$lex==\"דת\" |\n",
    "      total$lex==\"כנס\" |\n",
    "      total$lex==\"זוע\" |\n",
    "      total$lex==\"שׁאר\" |\n",
    "      total$lex==\"קבל\" |\n",
    "      total$lex==\"זמן\") \n",
    "      &\n",
    "      total$speaker==\"jew\"\n",
    "      , \n",
    "     ]\n",
    "\n",
    "late_lex_list\n",
    "table(late_lex_list$speaker, late_lex_list$ttype)"
   ]
  },
  {
   "cell_type": "code",
   "execution_count": null,
   "id": "32057151-6852-4bff-ac90-3f218a6c8465",
   "metadata": {},
   "outputs": [],
   "source": []
  },
  {
   "cell_type": "markdown",
   "id": "723a0c49",
   "metadata": {},
   "source": [
    "Bergey가 주장하는 후기 단어 검색"
   ]
  },
  {
   "cell_type": "code",
   "execution_count": 32,
   "id": "53e77ce2",
   "metadata": {},
   "outputs": [
    {
     "data": {
      "text/html": [
       "<table class=\"dataframe\">\n",
       "<caption>A data.frame: 28 × 13</caption>\n",
       "<thead>\n",
       "\t<tr><th></th><th scope=col>book</th><th scope=col>lex</th><th scope=col>sp</th><th scope=col>vs</th><th scope=col>vt</th><th scope=col>ctyp</th><th scope=col>cnode</th><th scope=col>ptyp</th><th scope=col>gloss</th><th scope=col>speaker</th><th scope=col>ttype</th><th scope=col>clausespeaker</th><th scope=col>clausettype</th></tr>\n",
       "\t<tr><th></th><th scope=col>&lt;chr&gt;</th><th scope=col>&lt;chr&gt;</th><th scope=col>&lt;chr&gt;</th><th scope=col>&lt;chr&gt;</th><th scope=col>&lt;chr&gt;</th><th scope=col>&lt;chr&gt;</th><th scope=col>&lt;int&gt;</th><th scope=col>&lt;chr&gt;</th><th scope=col>&lt;chr&gt;</th><th scope=col>&lt;chr&gt;</th><th scope=col>&lt;chr&gt;</th><th scope=col>&lt;chr&gt;</th><th scope=col>&lt;chr&gt;</th></tr>\n",
       "</thead>\n",
       "<tbody>\n",
       "\t<tr><th scope=row>2</th><td>Esther1:15</td><td>דת   </td><td>subs</td><td>   </td><td>    </td><td>    </td><td>    NA</td><td>    </td><td>orders   </td><td>persian</td><td>discourse</td><td>       </td><td>         </td></tr>\n",
       "\t<tr><th scope=row>15</th><td>Esther1:15</td><td>מאמר </td><td>subs</td><td>   </td><td>    </td><td>    </td><td>    NA</td><td>    </td><td>word     </td><td>persian</td><td>discourse</td><td>       </td><td>         </td></tr>\n",
       "\t<tr><th scope=row>60</th><td>Esther1:17</td><td>בזה  </td><td>verb</td><td>hif</td><td>infc</td><td>    </td><td>    NA</td><td>    </td><td>despise  </td><td>persian</td><td>discourse</td><td>       </td><td>         </td></tr>\n",
       "\t<tr><th scope=row>115</th><td>Esther1:19</td><td>מלכות</td><td>subs</td><td>   </td><td>    </td><td>    </td><td>    NA</td><td>    </td><td>kingship </td><td>persian</td><td>discourse</td><td>       </td><td>         </td></tr>\n",
       "\t<tr><th scope=row>129</th><td>Esther1:19</td><td>מלכות</td><td>subs</td><td>   </td><td>    </td><td>    </td><td>    NA</td><td>NP  </td><td>kingship </td><td>persian</td><td>discourse</td><td>       </td><td>         </td></tr>\n",
       "\t<tr><th scope=row>141</th><td>Esther1:19</td><td>דת   </td><td>subs</td><td>   </td><td>    </td><td>    </td><td>    NA</td><td>    </td><td>orders   </td><td>persian</td><td>discourse</td><td>       </td><td>         </td></tr>\n",
       "\t<tr><th scope=row>150</th><td>Esther1:20</td><td>פתגם </td><td>subs</td><td>   </td><td>    </td><td>    </td><td>    NA</td><td>NP  </td><td>decision </td><td>persian</td><td>discourse</td><td>       </td><td>         </td></tr>\n",
       "\t<tr><th scope=row>157</th><td>Esther1:20</td><td>מלכות</td><td>subs</td><td>   </td><td>    </td><td>    </td><td>    NA</td><td>    </td><td>kingship </td><td>persian</td><td>discourse</td><td>       </td><td>         </td></tr>\n",
       "\t<tr><th scope=row>191</th><td>Esther2:3 </td><td>מלכות</td><td>subs</td><td>   </td><td>    </td><td>    </td><td>    NA</td><td>    </td><td>kingship </td><td>persian</td><td>discourse</td><td>       </td><td>         </td></tr>\n",
       "\t<tr><th scope=row>251</th><td>Esther3:8 </td><td>מלכות</td><td>subs</td><td>   </td><td>    </td><td>    </td><td>    NA</td><td>    </td><td>kingship </td><td>persian</td><td>discourse</td><td>       </td><td>         </td></tr>\n",
       "\t<tr><th scope=row>253</th><td>Esther3:8 </td><td>דת   </td><td>subs</td><td>   </td><td>    </td><td>    </td><td>    NA</td><td>NP  </td><td>orders   </td><td>persian</td><td>discourse</td><td>       </td><td>         </td></tr>\n",
       "\t<tr><th scope=row>254</th><td>Esther3:8 </td><td>שׁנה  </td><td>verb</td><td>qal</td><td>ptca</td><td>    </td><td>    NA</td><td>VP  </td><td>change   </td><td>persian</td><td>discourse</td><td>       </td><td>         </td></tr>\n",
       "\t<tr><th scope=row>260</th><td>Esther3:8 </td><td>דת   </td><td>subs</td><td>   </td><td>    </td><td>    </td><td>    NA</td><td>    </td><td>orders   </td><td>persian</td><td>discourse</td><td>       </td><td>         </td></tr>\n",
       "\t<tr><th scope=row>475</th><td>Esther5:3 </td><td>בקשׁה </td><td>subs</td><td>   </td><td>    </td><td>    </td><td>    NA</td><td>NP  </td><td>request  </td><td>persian</td><td>discourse</td><td>       </td><td>         </td></tr>\n",
       "\t<tr><th scope=row>479</th><td>Esther5:3 </td><td>מלכות</td><td>subs</td><td>   </td><td>    </td><td>    </td><td>    NA</td><td>    </td><td>kingship </td><td>persian</td><td>discourse</td><td>       </td><td>         </td></tr>\n",
       "\t<tr><th scope=row>508</th><td>Esther5:6 </td><td>בקשׁה </td><td>subs</td><td>   </td><td>    </td><td>    </td><td>    NA</td><td>NP  </td><td>request  </td><td>persian</td><td>discourse</td><td>       </td><td>         </td></tr>\n",
       "\t<tr><th scope=row>512</th><td>Esther5:6 </td><td>מלכות</td><td>subs</td><td>   </td><td>    </td><td>    </td><td>    NA</td><td>    </td><td>kingship </td><td>persian</td><td>discourse</td><td>       </td><td>         </td></tr>\n",
       "\t<tr><th scope=row>631</th><td>Esther6:5 </td><td>עמד  </td><td>verb</td><td>qal</td><td>ptca</td><td>    </td><td>    NA</td><td>VP  </td><td>stand    </td><td>persian</td><td>discourse</td><td>       </td><td>         </td></tr>\n",
       "\t<tr><th scope=row>656</th><td>Esther6:6 </td><td>יותר </td><td>subs</td><td>   </td><td>    </td><td>xYqX</td><td>505701</td><td>AdvP</td><td>rest     </td><td>persian</td><td>discourse</td><td>persian</td><td>discourse</td></tr>\n",
       "\t<tr><th scope=row>667</th><td>Esther6:8 </td><td>מלכות</td><td>subs</td><td>   </td><td>    </td><td>    </td><td>    NA</td><td>    </td><td>kingship </td><td>persian</td><td>discourse</td><td>       </td><td>         </td></tr>\n",
       "\t<tr><th scope=row>683</th><td>Esther6:8 </td><td>כתר  </td><td>subs</td><td>   </td><td>    </td><td>    </td><td>    NA</td><td>NP  </td><td>headdress</td><td>persian</td><td>discourse</td><td>       </td><td>         </td></tr>\n",
       "\t<tr><th scope=row>684</th><td>Esther6:8 </td><td>מלכות</td><td>subs</td><td>   </td><td>    </td><td>    </td><td>    NA</td><td>    </td><td>kingship </td><td>persian</td><td>discourse</td><td>       </td><td>         </td></tr>\n",
       "\t<tr><th scope=row>811</th><td>Esther7:2 </td><td>בקשׁה </td><td>subs</td><td>   </td><td>    </td><td>    </td><td>    NA</td><td>NP  </td><td>request  </td><td>persian</td><td>discourse</td><td>       </td><td>         </td></tr>\n",
       "\t<tr><th scope=row>815</th><td>Esther7:2 </td><td>מלכות</td><td>subs</td><td>   </td><td>    </td><td>    </td><td>    NA</td><td>    </td><td>kingship </td><td>persian</td><td>discourse</td><td>       </td><td>         </td></tr>\n",
       "\t<tr><th scope=row>918</th><td>Esther7:9 </td><td>עמד  </td><td>verb</td><td>qal</td><td>ptca</td><td>Ptcp</td><td>505792</td><td>VP  </td><td>stand    </td><td>persian</td><td>discourse</td><td>persian</td><td>discourse</td></tr>\n",
       "\t<tr><th scope=row>1037</th><td>Esther8:8 </td><td>כתב  </td><td>subs</td><td>   </td><td>    </td><td>    </td><td>    NA</td><td>NP  </td><td>writing  </td><td>persian</td><td>discourse</td><td>       </td><td>         </td></tr>\n",
       "\t<tr><th scope=row>1071</th><td>Esther9:12</td><td>שׁאר  </td><td>subs</td><td>   </td><td>    </td><td>    </td><td>    NA</td><td>    </td><td>rest     </td><td>persian</td><td>discourse</td><td>       </td><td>         </td></tr>\n",
       "\t<tr><th scope=row>1085</th><td>Esther9:12</td><td>בקשׁה </td><td>subs</td><td>   </td><td>    </td><td>    </td><td>    NA</td><td>NP  </td><td>request  </td><td>persian</td><td>discourse</td><td>       </td><td>         </td></tr>\n",
       "</tbody>\n",
       "</table>\n"
      ],
      "text/latex": [
       "A data.frame: 28 × 13\n",
       "\\begin{tabular}{r|lllllllllllll}\n",
       "  & book & lex & sp & vs & vt & ctyp & cnode & ptyp & gloss & speaker & ttype & clausespeaker & clausettype\\\\\n",
       "  & <chr> & <chr> & <chr> & <chr> & <chr> & <chr> & <int> & <chr> & <chr> & <chr> & <chr> & <chr> & <chr>\\\\\n",
       "\\hline\n",
       "\t2 & Esther1:15 & דת    & subs &     &      &      &     NA &      & orders    & persian & discourse &         &          \\\\\n",
       "\t15 & Esther1:15 & מאמר  & subs &     &      &      &     NA &      & word      & persian & discourse &         &          \\\\\n",
       "\t60 & Esther1:17 & בזה   & verb & hif & infc &      &     NA &      & despise   & persian & discourse &         &          \\\\\n",
       "\t115 & Esther1:19 & מלכות & subs &     &      &      &     NA &      & kingship  & persian & discourse &         &          \\\\\n",
       "\t129 & Esther1:19 & מלכות & subs &     &      &      &     NA & NP   & kingship  & persian & discourse &         &          \\\\\n",
       "\t141 & Esther1:19 & דת    & subs &     &      &      &     NA &      & orders    & persian & discourse &         &          \\\\\n",
       "\t150 & Esther1:20 & פתגם  & subs &     &      &      &     NA & NP   & decision  & persian & discourse &         &          \\\\\n",
       "\t157 & Esther1:20 & מלכות & subs &     &      &      &     NA &      & kingship  & persian & discourse &         &          \\\\\n",
       "\t191 & Esther2:3  & מלכות & subs &     &      &      &     NA &      & kingship  & persian & discourse &         &          \\\\\n",
       "\t251 & Esther3:8  & מלכות & subs &     &      &      &     NA &      & kingship  & persian & discourse &         &          \\\\\n",
       "\t253 & Esther3:8  & דת    & subs &     &      &      &     NA & NP   & orders    & persian & discourse &         &          \\\\\n",
       "\t254 & Esther3:8  & שׁנה   & verb & qal & ptca &      &     NA & VP   & change    & persian & discourse &         &          \\\\\n",
       "\t260 & Esther3:8  & דת    & subs &     &      &      &     NA &      & orders    & persian & discourse &         &          \\\\\n",
       "\t475 & Esther5:3  & בקשׁה  & subs &     &      &      &     NA & NP   & request   & persian & discourse &         &          \\\\\n",
       "\t479 & Esther5:3  & מלכות & subs &     &      &      &     NA &      & kingship  & persian & discourse &         &          \\\\\n",
       "\t508 & Esther5:6  & בקשׁה  & subs &     &      &      &     NA & NP   & request   & persian & discourse &         &          \\\\\n",
       "\t512 & Esther5:6  & מלכות & subs &     &      &      &     NA &      & kingship  & persian & discourse &         &          \\\\\n",
       "\t631 & Esther6:5  & עמד   & verb & qal & ptca &      &     NA & VP   & stand     & persian & discourse &         &          \\\\\n",
       "\t656 & Esther6:6  & יותר  & subs &     &      & xYqX & 505701 & AdvP & rest      & persian & discourse & persian & discourse\\\\\n",
       "\t667 & Esther6:8  & מלכות & subs &     &      &      &     NA &      & kingship  & persian & discourse &         &          \\\\\n",
       "\t683 & Esther6:8  & כתר   & subs &     &      &      &     NA & NP   & headdress & persian & discourse &         &          \\\\\n",
       "\t684 & Esther6:8  & מלכות & subs &     &      &      &     NA &      & kingship  & persian & discourse &         &          \\\\\n",
       "\t811 & Esther7:2  & בקשׁה  & subs &     &      &      &     NA & NP   & request   & persian & discourse &         &          \\\\\n",
       "\t815 & Esther7:2  & מלכות & subs &     &      &      &     NA &      & kingship  & persian & discourse &         &          \\\\\n",
       "\t918 & Esther7:9  & עמד   & verb & qal & ptca & Ptcp & 505792 & VP   & stand     & persian & discourse & persian & discourse\\\\\n",
       "\t1037 & Esther8:8  & כתב   & subs &     &      &      &     NA & NP   & writing   & persian & discourse &         &          \\\\\n",
       "\t1071 & Esther9:12 & שׁאר   & subs &     &      &      &     NA &      & rest      & persian & discourse &         &          \\\\\n",
       "\t1085 & Esther9:12 & בקשׁה  & subs &     &      &      &     NA & NP   & request   & persian & discourse &         &          \\\\\n",
       "\\end{tabular}\n"
      ],
      "text/markdown": [
       "\n",
       "A data.frame: 28 × 13\n",
       "\n",
       "| <!--/--> | book &lt;chr&gt; | lex &lt;chr&gt; | sp &lt;chr&gt; | vs &lt;chr&gt; | vt &lt;chr&gt; | ctyp &lt;chr&gt; | cnode &lt;int&gt; | ptyp &lt;chr&gt; | gloss &lt;chr&gt; | speaker &lt;chr&gt; | ttype &lt;chr&gt; | clausespeaker &lt;chr&gt; | clausettype &lt;chr&gt; |\n",
       "|---|---|---|---|---|---|---|---|---|---|---|---|---|---|\n",
       "| 2 | Esther1:15 | דת    | subs | <!----> | <!----> | <!----> |     NA | <!----> | orders    | persian | discourse | <!----> | <!----> |\n",
       "| 15 | Esther1:15 | מאמר  | subs | <!----> | <!----> | <!----> |     NA | <!----> | word      | persian | discourse | <!----> | <!----> |\n",
       "| 60 | Esther1:17 | בזה   | verb | hif | infc | <!----> |     NA | <!----> | despise   | persian | discourse | <!----> | <!----> |\n",
       "| 115 | Esther1:19 | מלכות | subs | <!----> | <!----> | <!----> |     NA | <!----> | kingship  | persian | discourse | <!----> | <!----> |\n",
       "| 129 | Esther1:19 | מלכות | subs | <!----> | <!----> | <!----> |     NA | NP   | kingship  | persian | discourse | <!----> | <!----> |\n",
       "| 141 | Esther1:19 | דת    | subs | <!----> | <!----> | <!----> |     NA | <!----> | orders    | persian | discourse | <!----> | <!----> |\n",
       "| 150 | Esther1:20 | פתגם  | subs | <!----> | <!----> | <!----> |     NA | NP   | decision  | persian | discourse | <!----> | <!----> |\n",
       "| 157 | Esther1:20 | מלכות | subs | <!----> | <!----> | <!----> |     NA | <!----> | kingship  | persian | discourse | <!----> | <!----> |\n",
       "| 191 | Esther2:3  | מלכות | subs | <!----> | <!----> | <!----> |     NA | <!----> | kingship  | persian | discourse | <!----> | <!----> |\n",
       "| 251 | Esther3:8  | מלכות | subs | <!----> | <!----> | <!----> |     NA | <!----> | kingship  | persian | discourse | <!----> | <!----> |\n",
       "| 253 | Esther3:8  | דת    | subs | <!----> | <!----> | <!----> |     NA | NP   | orders    | persian | discourse | <!----> | <!----> |\n",
       "| 254 | Esther3:8  | שׁנה   | verb | qal | ptca | <!----> |     NA | VP   | change    | persian | discourse | <!----> | <!----> |\n",
       "| 260 | Esther3:8  | דת    | subs | <!----> | <!----> | <!----> |     NA | <!----> | orders    | persian | discourse | <!----> | <!----> |\n",
       "| 475 | Esther5:3  | בקשׁה  | subs | <!----> | <!----> | <!----> |     NA | NP   | request   | persian | discourse | <!----> | <!----> |\n",
       "| 479 | Esther5:3  | מלכות | subs | <!----> | <!----> | <!----> |     NA | <!----> | kingship  | persian | discourse | <!----> | <!----> |\n",
       "| 508 | Esther5:6  | בקשׁה  | subs | <!----> | <!----> | <!----> |     NA | NP   | request   | persian | discourse | <!----> | <!----> |\n",
       "| 512 | Esther5:6  | מלכות | subs | <!----> | <!----> | <!----> |     NA | <!----> | kingship  | persian | discourse | <!----> | <!----> |\n",
       "| 631 | Esther6:5  | עמד   | verb | qal | ptca | <!----> |     NA | VP   | stand     | persian | discourse | <!----> | <!----> |\n",
       "| 656 | Esther6:6  | יותר  | subs | <!----> | <!----> | xYqX | 505701 | AdvP | rest      | persian | discourse | persian | discourse |\n",
       "| 667 | Esther6:8  | מלכות | subs | <!----> | <!----> | <!----> |     NA | <!----> | kingship  | persian | discourse | <!----> | <!----> |\n",
       "| 683 | Esther6:8  | כתר   | subs | <!----> | <!----> | <!----> |     NA | NP   | headdress | persian | discourse | <!----> | <!----> |\n",
       "| 684 | Esther6:8  | מלכות | subs | <!----> | <!----> | <!----> |     NA | <!----> | kingship  | persian | discourse | <!----> | <!----> |\n",
       "| 811 | Esther7:2  | בקשׁה  | subs | <!----> | <!----> | <!----> |     NA | NP   | request   | persian | discourse | <!----> | <!----> |\n",
       "| 815 | Esther7:2  | מלכות | subs | <!----> | <!----> | <!----> |     NA | <!----> | kingship  | persian | discourse | <!----> | <!----> |\n",
       "| 918 | Esther7:9  | עמד   | verb | qal | ptca | Ptcp | 505792 | VP   | stand     | persian | discourse | persian | discourse |\n",
       "| 1037 | Esther8:8  | כתב   | subs | <!----> | <!----> | <!----> |     NA | NP   | writing   | persian | discourse | <!----> | <!----> |\n",
       "| 1071 | Esther9:12 | שׁאר   | subs | <!----> | <!----> | <!----> |     NA | <!----> | rest      | persian | discourse | <!----> | <!----> |\n",
       "| 1085 | Esther9:12 | בקשׁה  | subs | <!----> | <!----> | <!----> |     NA | NP   | request   | persian | discourse | <!----> | <!----> |\n",
       "\n"
      ],
      "text/plain": [
       "     book       lex   sp   vs  vt   ctyp cnode  ptyp gloss     speaker\n",
       "2    Esther1:15 דת    subs                   NA      orders    persian\n",
       "15   Esther1:15 מאמר  subs                   NA      word      persian\n",
       "60   Esther1:17 בזה   verb hif infc          NA      despise   persian\n",
       "115  Esther1:19 מלכות subs                   NA      kingship  persian\n",
       "129  Esther1:19 מלכות subs                   NA NP   kingship  persian\n",
       "141  Esther1:19 דת    subs                   NA      orders    persian\n",
       "150  Esther1:20 פתגם  subs                   NA NP   decision  persian\n",
       "157  Esther1:20 מלכות subs                   NA      kingship  persian\n",
       "191  Esther2:3  מלכות subs                   NA      kingship  persian\n",
       "251  Esther3:8  מלכות subs                   NA      kingship  persian\n",
       "253  Esther3:8  דת    subs                   NA NP   orders    persian\n",
       "254  Esther3:8  שׁנה   verb qal ptca          NA VP   change    persian\n",
       "260  Esther3:8  דת    subs                   NA      orders    persian\n",
       "475  Esther5:3  בקשׁה  subs                   NA NP   request   persian\n",
       "479  Esther5:3  מלכות subs                   NA      kingship  persian\n",
       "508  Esther5:6  בקשׁה  subs                   NA NP   request   persian\n",
       "512  Esther5:6  מלכות subs                   NA      kingship  persian\n",
       "631  Esther6:5  עמד   verb qal ptca          NA VP   stand     persian\n",
       "656  Esther6:6  יותר  subs          xYqX 505701 AdvP rest      persian\n",
       "667  Esther6:8  מלכות subs                   NA      kingship  persian\n",
       "683  Esther6:8  כתר   subs                   NA NP   headdress persian\n",
       "684  Esther6:8  מלכות subs                   NA      kingship  persian\n",
       "811  Esther7:2  בקשׁה  subs                   NA NP   request   persian\n",
       "815  Esther7:2  מלכות subs                   NA      kingship  persian\n",
       "918  Esther7:9  עמד   verb qal ptca Ptcp 505792 VP   stand     persian\n",
       "1037 Esther8:8  כתב   subs                   NA NP   writing   persian\n",
       "1071 Esther9:12 שׁאר   subs                   NA      rest      persian\n",
       "1085 Esther9:12 בקשׁה  subs                   NA NP   request   persian\n",
       "     ttype     clausespeaker clausettype\n",
       "2    discourse                          \n",
       "15   discourse                          \n",
       "60   discourse                          \n",
       "115  discourse                          \n",
       "129  discourse                          \n",
       "141  discourse                          \n",
       "150  discourse                          \n",
       "157  discourse                          \n",
       "191  discourse                          \n",
       "251  discourse                          \n",
       "253  discourse                          \n",
       "254  discourse                          \n",
       "260  discourse                          \n",
       "475  discourse                          \n",
       "479  discourse                          \n",
       "508  discourse                          \n",
       "512  discourse                          \n",
       "631  discourse                          \n",
       "656  discourse persian       discourse  \n",
       "667  discourse                          \n",
       "683  discourse                          \n",
       "684  discourse                          \n",
       "811  discourse                          \n",
       "815  discourse                          \n",
       "918  discourse persian       discourse  \n",
       "1037 discourse                          \n",
       "1071 discourse                          \n",
       "1085 discourse                          "
      ]
     },
     "metadata": {},
     "output_type": "display_data"
    },
    {
     "data": {
      "text/plain": [
       "         \n",
       "          discourse\n",
       "  persian        28"
      ]
     },
     "metadata": {},
     "output_type": "display_data"
    }
   ],
   "source": [
    "late_lex_list = total[(total$lex==\"כתר\" | \n",
    "      total$lex==\"בוץ\" | \n",
    "      total$lex==\"רצפה\" | \n",
    "      total$lex==\"כתר\" | \n",
    "      total$lex==\"מאמר\" | \n",
    "      total$lex==\"פתגם\" | \n",
    "      (total$lex==\"כתב\" & total$sp==\"subs\") | \n",
    "      total$lex==\"לשׁון\" |\n",
    "      total$lex==\"גזר\" |\n",
    "      total$lex==\"בהל\" |\n",
    "      (total$lex==\"שׁנה\" & total$sp==\"verb\") | \n",
    "      total$lex==\"דת\" |\n",
    "      total$lex==\"זעק\" |\n",
    "      total$lex==\"זעקה\" |\n",
    "      total$lex==\"עמד\" |\n",
    "      total$lex==\"כנס\" |\n",
    "      total$lex==\"בקשׁה\" |\n",
    "      total$lex==\"זוע\" |\n",
    "      total$lex==\"נבעת\" |\n",
    "      total$lex==\"תכל\" |\n",
    "      total$lex==\"זוע\" |\n",
    "      total$lex==\"תכריך\" |\n",
    "      total$lex==\"שׁלט\" |\n",
    "      total$lex==\"שׁאר\" |\n",
    "      total$lex==\"קבל\" |\n",
    "      total$lex==\"אגרת\" |\n",
    "      total$lex==\"זמן\" |\n",
    "      total$lex==\"תקף\" |\n",
    "      total$lex==\"יותר\" |\n",
    "      total$lex==\"מלכות\" |\n",
    "      total$lex==\"ירושׁלים\" |\n",
    "      total$lex==\"שׁרביט\" |\n",
    "      total$lex==\"אלו\" |\n",
    "      total$lex==\"קים\" |\n",
    "      total$lex==\"שׁתיה\" |\n",
    "      total$lex==\"בזה\" |\n",
    "      total$lex==\"חיה\" |\n",
    "      total$lex==\"רצון\" |\n",
    "      total$lex==\"ישׁט\") \n",
    "      &\n",
    "      total$speaker==\"persian\"\n",
    "      &\n",
    "      total$ttype==\"discourse\"\n",
    "      , \n",
    "     ]\n",
    "\n",
    "late_lex_list\n",
    "table(late_lex_list$speaker, late_lex_list$ttype)\n",
    "\n",
    "# text fabric에서 찾아야 할것\n",
    "# 이름 + מלכה\n",
    "\n"
   ]
  },
  {
   "cell_type": "markdown",
   "id": "33e57220",
   "metadata": {},
   "source": [
    "기본적인 양적통계 (문장단위)"
   ]
  },
  {
   "cell_type": "code",
   "execution_count": 11,
   "id": "6a28107f",
   "metadata": {},
   "outputs": [
    {
     "data": {
      "text/plain": [
       "             \n",
       "              author jew persian\n",
       "  description    296   0       0\n",
       "  discourse        0  38      87\n",
       "  letter           0   9       4"
      ]
     },
     "metadata": {},
     "output_type": "display_data"
    }
   ],
   "source": [
    "table(total_sentence$type, total_sentence$speaker)"
   ]
  },
  {
   "cell_type": "code",
   "execution_count": 5,
   "id": "1755af87",
   "metadata": {},
   "outputs": [
    {
     "data": {
      "text/plain": [
       "             \n",
       "                  author        jew    persian\n",
       "  description 0.68202765 0.00000000 0.00000000\n",
       "  discourse   0.00000000 0.08755760 0.20046083\n",
       "  letter      0.00000000 0.02073733 0.00921659"
      ]
     },
     "metadata": {},
     "output_type": "display_data"
    }
   ],
   "source": [
    "sentence_prop = table(total_sentence$type, total_sentence$speaker)\n",
    "prop.table(sentence_prop)"
   ]
  },
  {
   "cell_type": "markdown",
   "id": "5c549701",
   "metadata": {},
   "source": [
    "### 서술문과 관련된 자료"
   ]
  },
  {
   "cell_type": "code",
   "execution_count": 13,
   "id": "5ff65479",
   "metadata": {},
   "outputs": [
    {
     "data": {
      "text/plain": [
       "      \n",
       "            author\n",
       "       2615      0\n",
       "  AjCl    0      9\n",
       "  CPen    0      4\n",
       "  Ellp    0     17\n",
       "  InfA    0      9\n",
       "  InfC    0     64\n",
       "  NmCl    0     43\n",
       "  Ptcp    0     47\n",
       "  Way0    0     68\n",
       "  WayX    0     94\n",
       "  WQt0    0      2\n",
       "  WQtX    0      2\n",
       "  WxQ0    0     20\n",
       "  WXQt    0     23\n",
       "  WxQX    0      9\n",
       "  WxY0    0      2\n",
       "  WXYq    0      4\n",
       "  xQt0    0     27\n",
       "  XQtl    0      6\n",
       "  xQtX    0     28\n",
       "  xYq0    0      5\n",
       "  XYqt    0      1\n",
       "  xYqX    0      4\n",
       "  ZIm0    0      1\n",
       "  ZQt0    0      1"
      ]
     },
     "metadata": {},
     "output_type": "display_data"
    }
   ],
   "source": [
    "table(description$ctyp, description$clausespeaker)"
   ]
  },
  {
   "cell_type": "markdown",
   "id": "13c3071f",
   "metadata": {},
   "source": [
    "Clause 단위에서의 담화문 절 유형 비교"
   ]
  },
  {
   "cell_type": "code",
   "execution_count": 6,
   "id": "1bcb206c",
   "metadata": {},
   "outputs": [
    {
     "data": {
      "text/plain": [
       "      \n",
       "           jew persian\n",
       "       896   0       0\n",
       "  AjCl   0   6       5\n",
       "  CPen   0   1       0\n",
       "  Ellp   0   1       4\n",
       "  InfA   0   0       4\n",
       "  InfC   0  11      14\n",
       "  NmCl   0   6      25\n",
       "  Ptcp   0   4      13\n",
       "  Voct   0   1       2\n",
       "  WIm0   0   1       3\n",
       "  WQt0   0   3       3\n",
       "  WQtX   0   1       2\n",
       "  WxI0   0   0       1\n",
       "  WXIm   0   0       1\n",
       "  WxQ0   0   5       3\n",
       "  WXQt   0   2       0\n",
       "  WxY0   0   6       2\n",
       "  WXYq   0   1       3\n",
       "  WxYX   0   0       3\n",
       "  WYq0   0   0      10\n",
       "  WYqX   0   0       1\n",
       "  XPos   0   0       1\n",
       "  xQt0   0   7      10\n",
       "  XQtl   0   0       7\n",
       "  xQtX   0   1       8\n",
       "  xYq0   0   7       7\n",
       "  XYqt   0   3       0\n",
       "  xYqX   0   1       4\n",
       "  ZIm0   0   2       3\n",
       "  ZYq0   0   2       6\n",
       "  ZYqX   0   3       1"
      ]
     },
     "metadata": {},
     "output_type": "display_data"
    }
   ],
   "source": [
    "table(discourse$ctyp, discourse$clausespeaker)"
   ]
  },
  {
   "cell_type": "markdown",
   "id": "25ce7444",
   "metadata": {},
   "source": [
    "전체 단위"
   ]
  },
  {
   "cell_type": "code",
   "execution_count": 54,
   "id": "4278ea8a",
   "metadata": {},
   "outputs": [
    {
     "data": {
      "text/plain": [
       "      \n",
       "            author  jew persian\n",
       "       3806      0    0       0\n",
       "  AjCl    0      9    8       5\n",
       "  CPen    0      4    1       0\n",
       "  Ellp    0     17    8       7\n",
       "  InfA    0      9    0       5\n",
       "  InfC    0     64   25      23\n",
       "  NmCl    0     43    9      26\n",
       "  Ptcp    0     47    5      15\n",
       "  Voct    0      0    1       2\n",
       "  Way0    0     68    2       1\n",
       "  WayX    0     94    0       1\n",
       "  WIm0    0      0    1       3\n",
       "  WQt0    0      2    5       3\n",
       "  WQtX    0      2    1       2\n",
       "  WxI0    0      0    0       1\n",
       "  WXIm    0      0    0       1\n",
       "  WxQ0    0     20    7       3\n",
       "  WXQt    0     23    2       0\n",
       "  WxQX    0      9    0       0\n",
       "  WxY0    0      2    6       2\n",
       "  WXYq    0      4    1       3\n",
       "  WxYX    0      0    0       3\n",
       "  WYq0    0      0    0      10\n",
       "  WYqX    0      0    0       1\n",
       "  XPos    0      0    0       2\n",
       "  xQt0    0     27   10      11\n",
       "  XQtl    0      6    1       7\n",
       "  xQtX    0     28    3       9\n",
       "  xYq0    0      5    7       7\n",
       "  XYqt    0      1    3       0\n",
       "  xYqX    0      4    1       4\n",
       "  ZIm0    0      1    2       3\n",
       "  ZQt0    0      1    0       0\n",
       "  ZYq0    0      0    2       6\n",
       "  ZYqX    0      0    5       1"
      ]
     },
     "metadata": {},
     "output_type": "display_data"
    }
   ],
   "source": [
    "table(total$ctyp, total$clausespeaker)"
   ]
  },
  {
   "cell_type": "code",
   "execution_count": 7,
   "id": "f9bd482f",
   "metadata": {},
   "outputs": [
    {
     "name": "stderr",
     "output_type": "stream",
     "text": [
      "\u001b[1m\u001b[22mSelecting by count\n"
     ]
    },
    {
     "data": {
      "text/html": [
       "<table class=\"dataframe\">\n",
       "<caption>A tibble: 5 × 2</caption>\n",
       "<thead>\n",
       "\t<tr><th scope=col>ctyp</th><th scope=col>count</th></tr>\n",
       "\t<tr><th scope=col>&lt;fct&gt;</th><th scope=col>&lt;int&gt;</th></tr>\n",
       "</thead>\n",
       "<tbody>\n",
       "\t<tr><td>NmCl</td><td>25</td></tr>\n",
       "\t<tr><td>InfC</td><td>14</td></tr>\n",
       "\t<tr><td>Ptcp</td><td>13</td></tr>\n",
       "\t<tr><td>WYq0</td><td>10</td></tr>\n",
       "\t<tr><td>xQt0</td><td>10</td></tr>\n",
       "</tbody>\n",
       "</table>\n"
      ],
      "text/latex": [
       "A tibble: 5 × 2\n",
       "\\begin{tabular}{ll}\n",
       " ctyp & count\\\\\n",
       " <fct> & <int>\\\\\n",
       "\\hline\n",
       "\t NmCl & 25\\\\\n",
       "\t InfC & 14\\\\\n",
       "\t Ptcp & 13\\\\\n",
       "\t WYq0 & 10\\\\\n",
       "\t xQt0 & 10\\\\\n",
       "\\end{tabular}\n"
      ],
      "text/markdown": [
       "\n",
       "A tibble: 5 × 2\n",
       "\n",
       "| ctyp &lt;fct&gt; | count &lt;int&gt; |\n",
       "|---|---|\n",
       "| NmCl | 25 |\n",
       "| InfC | 14 |\n",
       "| Ptcp | 13 |\n",
       "| WYq0 | 10 |\n",
       "| xQt0 | 10 |\n",
       "\n"
      ],
      "text/plain": [
       "  ctyp count\n",
       "1 NmCl 25   \n",
       "2 InfC 14   \n",
       "3 Ptcp 13   \n",
       "4 WYq0 10   \n",
       "5 xQt0 10   "
      ]
     },
     "metadata": {},
     "output_type": "display_data"
    },
    {
     "name": "stderr",
     "output_type": "stream",
     "text": [
      "\u001b[1m\u001b[22mSelecting by count\n"
     ]
    },
    {
     "data": {
      "text/html": [
       "<table class=\"dataframe\">\n",
       "<caption>A tibble: 6 × 2</caption>\n",
       "<thead>\n",
       "\t<tr><th scope=col>ctyp</th><th scope=col>count</th></tr>\n",
       "\t<tr><th scope=col>&lt;fct&gt;</th><th scope=col>&lt;int&gt;</th></tr>\n",
       "</thead>\n",
       "<tbody>\n",
       "\t<tr><td>InfC</td><td>11</td></tr>\n",
       "\t<tr><td>xQt0</td><td> 7</td></tr>\n",
       "\t<tr><td>xYq0</td><td> 7</td></tr>\n",
       "\t<tr><td>AjCl</td><td> 6</td></tr>\n",
       "\t<tr><td>NmCl</td><td> 6</td></tr>\n",
       "\t<tr><td>WxY0</td><td> 6</td></tr>\n",
       "</tbody>\n",
       "</table>\n"
      ],
      "text/latex": [
       "A tibble: 6 × 2\n",
       "\\begin{tabular}{ll}\n",
       " ctyp & count\\\\\n",
       " <fct> & <int>\\\\\n",
       "\\hline\n",
       "\t InfC & 11\\\\\n",
       "\t xQt0 &  7\\\\\n",
       "\t xYq0 &  7\\\\\n",
       "\t AjCl &  6\\\\\n",
       "\t NmCl &  6\\\\\n",
       "\t WxY0 &  6\\\\\n",
       "\\end{tabular}\n"
      ],
      "text/markdown": [
       "\n",
       "A tibble: 6 × 2\n",
       "\n",
       "| ctyp &lt;fct&gt; | count &lt;int&gt; |\n",
       "|---|---|\n",
       "| InfC | 11 |\n",
       "| xQt0 |  7 |\n",
       "| xYq0 |  7 |\n",
       "| AjCl |  6 |\n",
       "| NmCl |  6 |\n",
       "| WxY0 |  6 |\n",
       "\n"
      ],
      "text/plain": [
       "  ctyp count\n",
       "1 InfC 11   \n",
       "2 xQt0  7   \n",
       "3 xYq0  7   \n",
       "4 AjCl  6   \n",
       "5 NmCl  6   \n",
       "6 WxY0  6   "
      ]
     },
     "metadata": {},
     "output_type": "display_data"
    },
    {
     "data": {
      "image/png": "[encoded data removed]",
      "text/plain": [
       "plot without title"
      ]
     },
     "metadata": {
      "image/png": {
       "height": 420,
       "width": 420
      }
     },
     "output_type": "display_data"
    },
    {
     "data": {
      "image/png": "[encoded data removed]",
      "text/plain": [
       "plot without title"
      ]
     },
     "metadata": {
      "image/png": {
       "height": 420,
       "width": 420
      }
     },
     "output_type": "display_data"
    }
   ],
   "source": [
    "# clausespeaker가 'persian'인 경우에 대한 ctyp 빈도수를 계산합니다\n",
    "persian_data <- discourse %>%\n",
    "  filter(clausespeaker == \"persian\") %>%\n",
    "  group_by(ctyp) %>%\n",
    "  summarise(count = n()) %>%\n",
    "  arrange(desc(count)) %>%\n",
    "  top_n(5) %>%\n",
    "  mutate(ctyp = reorder(ctyp, -count))\n",
    "\n",
    "persian_data\n",
    "\n",
    "# clausespeaker가 'jew'인 경우에 대한 ctyp 빈도수를 계산합니다\n",
    "jew_data <- discourse %>%\n",
    "  filter(clausespeaker == \"jew\") %>%\n",
    "  group_by(ctyp) %>%\n",
    "  summarise(count = n()) %>%\n",
    "  arrange(desc(count)) %>%\n",
    "  top_n(5) %>%\n",
    "  mutate(ctyp = reorder(ctyp, -count))\n",
    "\n",
    "jew_data\n",
    "\n",
    "# 원 그래프를 생성합니다 (clausespeaker가 'persian'인 경우)\n",
    "ggplot(persian_data, aes(x = \"\", y = count, fill = ctyp)) +\n",
    "  geom_bar(stat = \"identity\", width = 1) +\n",
    "  coord_polar(\"y\", start = 0) +\n",
    "  labs(title = \"Top 5 Persian's discourse clause type\") +\n",
    "  scale_fill_discrete(name = \"ctyp\")\n",
    "\n",
    "# 원 그래프를 생성합니다 (clausespeaker가 'jew'인 경우)\n",
    "ggplot(jew_data, aes(x = \"\", y = count, fill = ctyp)) +\n",
    "  geom_bar(stat = \"identity\", width = 1) +\n",
    "  coord_polar(\"y\", start = 0) +\n",
    "  labs(title = \"Top 5 Jew's discourse clause type\") +\n",
    "  scale_fill_discrete(name = \"ctyp\")"
   ]
  },
  {
   "cell_type": "markdown",
   "id": "76b78f27",
   "metadata": {},
   "source": [
    "Clause 단위에서 서신문 절 유형 비교"
   ]
  },
  {
   "cell_type": "code",
   "execution_count": 8,
   "id": "7084a024",
   "metadata": {},
   "outputs": [
    {
     "data": {
      "text/plain": [
       "      \n",
       "           jew persian\n",
       "       295   0       0\n",
       "  AjCl   0   2       0\n",
       "  Ellp   0   7       3\n",
       "  InfA   0   0       1\n",
       "  InfC   0  14       9\n",
       "  NmCl   0   3       1\n",
       "  Ptcp   0   1       2\n",
       "  Way0   0   2       1\n",
       "  WayX   0   0       1\n",
       "  WQt0   0   2       0\n",
       "  WxQ0   0   2       0\n",
       "  XPos   0   0       1\n",
       "  xQt0   0   3       1\n",
       "  XQtl   0   1       0\n",
       "  xQtX   0   2       1\n",
       "  ZYqX   0   2       0"
      ]
     },
     "metadata": {},
     "output_type": "display_data"
    }
   ],
   "source": [
    "table(letter$ctyp, letter$clausespeaker)"
   ]
  },
  {
   "cell_type": "code",
   "execution_count": 42,
   "id": "2739570e",
   "metadata": {},
   "outputs": [
    {
     "name": "stdout",
     "output_type": "stream",
     "text": [
      "\n",
      "  מלך    כל מלכות  מלכה   אישׁ   יקר   פנה   דבר    יד    עם \n",
      "   38    12    10     9     8     8     6     5     5     5 \n"
     ]
    }
   ],
   "source": [
    "# speaker가 'jew'와 sp가 subs인 경우에 해당하는 데이터를 필터링합니다.\n",
    "jew_data <- discourse[discourse$speaker == \"persian\" & discourse$sp == \"subs\", ]\n",
    "\n",
    "# lex 열을 기준으로 단어 빈도를 집계합니다.\n",
    "word_counts <- table(jew_data$lex)\n",
    "\n",
    "# 빈도수를 기준으로 내림차순 정렬한 후, 상위 5개를 추출합니다.\n",
    "top_words <- head(sort(word_counts, decreasing = TRUE), 10)\n",
    "\n",
    "# 결과 출력\n",
    "print(top_words)"
   ]
  },
  {
   "cell_type": "code",
   "execution_count": 10,
   "id": "8676be78",
   "metadata": {},
   "outputs": [
    {
     "name": "stdout",
     "output_type": "stream",
     "text": [
      "\n",
      "  מלך    כל מלכות  מלכה   אישׁ \n",
      "   38    12    10     9     8 \n"
     ]
    }
   ],
   "source": [
    "# speaker가 'persian'와 sp가 subs인 경우에 해당하는 데이터를 필터링합니다.\n",
    "jew_data <- discourse[discourse$speaker == \"persian\" & discourse$sp == \"subs\", ]\n",
    "\n",
    "# lex 열을 기준으로 단어 빈도를 집계합니다.\n",
    "word_counts <- table(jew_data$lex)\n",
    "\n",
    "# 빈도수를 기준으로 내림차순 정렬한 후, 상위 5개를 추출합니다.\n",
    "top_words <- head(sort(word_counts, decreasing = TRUE), 5)\n",
    "\n",
    "# 결과 출력\n",
    "print(top_words)"
   ]
  },
  {
   "cell_type": "markdown",
   "id": "253a41b8",
   "metadata": {},
   "source": [
    "본문 유형에 따른 절 종류"
   ]
  },
  {
   "cell_type": "code",
   "execution_count": 6,
   "id": "97708647",
   "metadata": {},
   "outputs": [
    {
     "data": {
      "image/png": "[encoded data removed]",
      "text/plain": [
       "plot without title"
      ]
     },
     "metadata": {
      "image/png": {
       "height": 420,
       "width": 420
      }
     },
     "output_type": "display_data"
    }
   ],
   "source": [
    "#clause type\n",
    "total_ctyp = as.data.frame(table(total$ctyp, exclude=\"\"))\n",
    "total_ctyp <- cbind(total_ctyp, prop.table(total_ctyp$Freq)*100)\n",
    "names(total_ctyp) <- c(\"ctyp\", \"freq\", \"prop\")\n",
    "total_ctyp <- total_ctyp[order(total_ctyp$freq,decreasing=T)[1:5],]\n",
    "total_ctyp <- arrange(total_ctyp, desc(freq))\n",
    "\n",
    "discourse_ctyp = as.data.frame(table(discourse$ctyp, exclude=\"\"))\n",
    "discourse_ctyp <- cbind(discourse_ctyp, prop.table(discourse_ctyp$Freq)*100)\n",
    "names(discourse_ctyp) <- c(\"ctyp\", \"freq\", \"prop\")\n",
    "discourse_ctyp <- discourse_ctyp[order(discourse_ctyp$freq,decreasing=T)[1:5],]\n",
    "discourse_ctyp <- arrange(discourse_ctyp, desc(freq))\n",
    "\n",
    "letter_ctyp = as.data.frame(table(letter$ctyp, exclude=\"\"))\n",
    "letter_ctyp <- cbind(letter_ctyp, prop.table(letter_ctyp$Freq)*100)\n",
    "names(letter_ctyp) <- c(\"ctyp\", \"freq\", \"prop\")\n",
    "letter_ctyp <- letter_ctyp[order(letter_ctyp$freq,decreasing=T)[1:5],]\n",
    "letter_ctyp <- arrange(letter_ctyp, desc(freq))\n",
    "\n",
    "description_ctyp = as.data.frame(table(description$ctyp, exclude=\"\"))\n",
    "description_ctyp <- cbind(description_ctyp, prop.table(description_ctyp$Freq)*100)\n",
    "names(description_ctyp) <- c(\"ctyp\", \"freq\", \"prop\")\n",
    "description_ctyp <- description_ctyp[order(description_ctyp$freq,decreasing=T)[1:5],]\n",
    "description_ctyp <- arrange(description_ctyp, desc(freq))\n",
    "\n",
    "ctyp0 <- ggplot(data=total_ctyp, aes(x=ctyp, y=prop)) + \n",
    "  geom_bar(stat=\"identity\") +\n",
    "  ggtitle(\"Clause Type of total text type\")\n",
    "\n",
    "ctyp1 <- ggplot(data=discourse_ctyp, aes(x=ctyp, y=prop)) + \n",
    "  geom_bar(stat=\"identity\") +\n",
    "  ggtitle(\"Clause Type of discourse\")\n",
    "\n",
    "ctyp2 <- ggplot(data=letter_ctyp, aes(x=ctyp, y=prop)) + \n",
    "  geom_bar(stat=\"identity\") +\n",
    "  ggtitle(\"Clause Type of letter\")\n",
    "\n",
    "ctyp3 <- ggplot(data=description_ctyp, aes(x=ctyp, y=prop)) + \n",
    "  geom_bar(stat=\"identity\") +\n",
    "  ggtitle(\"Clause Type of description\")\n",
    "\n",
    "grid.newpage()\n",
    "grid.draw(rbind(ggplotGrob(ctyp0), ggplotGrob(ctyp1), ggplotGrob(ctyp2), ggplotGrob(ctyp3), size = \"last\"))"
   ]
  },
  {
   "cell_type": "code",
   "execution_count": 7,
   "id": "7488188c",
   "metadata": {},
   "outputs": [
    {
     "data": {
      "image/png": "[encoded data removed]",
      "text/plain": [
       "plot without title"
      ]
     },
     "metadata": {
      "image/png": {
       "height": 420,
       "width": 420
      }
     },
     "output_type": "display_data"
    }
   ],
   "source": [
    "#proportion of nominal clause of each text type\n",
    "total_NmCl <- total_ctyp[(total_ctyp$ctyp == 'NmCl' | total_ctyp$ctyp == 'Ptcp' | total_ctyp$ctyp == 'InfC' | total_ctyp$ctyp == 'Voct' | total_ctyp$ctyp == 'AjCl'),]\n",
    "sum_total = sum(total_NmCl[, c(3)])\n",
    "\n",
    "discourse_NmCl <- discourse_ctyp[(discourse_ctyp$ctyp == 'NmCl' | discourse_ctyp$ctyp == 'Ptcp' | discourse_ctyp$ctyp == 'InfC' | discourse_ctyp$ctyp == 'Voct' | discourse_ctyp$ctyp == 'AjCl'),]\n",
    "sum_discourse = sum(total_NmCl[, c(3)])\n",
    "\n",
    "letter_NmCl <- letter_ctyp[(letter_ctyp$ctyp == 'NmCl' | letter_ctyp$ctyp == 'Ptcp' | letter_ctyp$ctyp == 'InfC' | letter_ctyp$ctyp == 'Voct' | letter_ctyp$ctyp == 'AjCl'),]\n",
    "sum_letter = sum(letter_NmCl[, c(3)])\n",
    "\n",
    "description_NmCl <- description_ctyp[(description_ctyp$ctyp == 'NmCl' | description_ctyp$ctyp == 'Ptcp' | description_ctyp$ctyp == 'InfC' | description_ctyp$ctyp == 'Voct' | description_ctyp$ctyp == 'AjCl'),]\n",
    "sum_description = sum(description_NmCl[, c(3)])\n",
    "\n",
    "type <- c(\"total\", \"discourse\", \"letter\", \"description\")\n",
    "NC <- c(sum_total, sum_discourse, sum_letter, sum_description)\n",
    "NCtable <- data.frame(type, NC)\n",
    "\n",
    "ggplot(data=NCtable, aes(x=type, y=NC)) + \n",
    "  geom_point() +\n",
    "  ggtitle(\"proportion of Nominal Clause\")"
   ]
  },
  {
   "cell_type": "code",
   "execution_count": 17,
   "id": "333b5806",
   "metadata": {},
   "outputs": [
    {
     "data": {
      "text/html": [
       "'전체'"
      ],
      "text/latex": [
       "'전체'"
      ],
      "text/markdown": [
       "'전체'"
      ],
      "text/plain": [
       "[1] \"전체\""
      ]
     },
     "metadata": {},
     "output_type": "display_data"
    },
    {
     "data": {
      "text/html": [
       "33.2470892626132"
      ],
      "text/latex": [
       "33.2470892626132"
      ],
      "text/markdown": [
       "33.2470892626132"
      ],
      "text/plain": [
       "[1] 33.24709"
      ]
     },
     "metadata": {},
     "output_type": "display_data"
    },
    {
     "data": {
      "text/html": [
       "'서술문'"
      ],
      "text/latex": [
       "'서술문'"
      ],
      "text/markdown": [
       "'서술문'"
      ],
      "text/plain": [
       "[1] \"서술문\""
      ]
     },
     "metadata": {},
     "output_type": "display_data"
    },
    {
     "data": {
      "text/html": [
       "31.4285714285714"
      ],
      "text/latex": [
       "31.4285714285714"
      ],
      "text/markdown": [
       "31.4285714285714"
      ],
      "text/plain": [
       "[1] 31.42857"
      ]
     },
     "metadata": {},
     "output_type": "display_data"
    },
    {
     "data": {
      "text/html": [
       "'담화문'"
      ],
      "text/latex": [
       "'담화문'"
      ],
      "text/markdown": [
       "'담화문'"
      ],
      "text/plain": [
       "[1] \"담화문\""
      ]
     },
     "metadata": {},
     "output_type": "display_data"
    },
    {
     "data": {
      "text/html": [
       "33.2470892626132"
      ],
      "text/latex": [
       "33.2470892626132"
      ],
      "text/markdown": [
       "33.2470892626132"
      ],
      "text/plain": [
       "[1] 33.24709"
      ]
     },
     "metadata": {},
     "output_type": "display_data"
    },
    {
     "data": {
      "text/html": [
       "'서신문'"
      ],
      "text/latex": [
       "'서신문'"
      ],
      "text/markdown": [
       "'서신문'"
      ],
      "text/plain": [
       "[1] \"서신문\""
      ]
     },
     "metadata": {},
     "output_type": "display_data"
    },
    {
     "data": {
      "text/html": [
       "48.3870967741935"
      ],
      "text/latex": [
       "48.3870967741935"
      ],
      "text/markdown": [
       "48.3870967741935"
      ],
      "text/plain": [
       "[1] 48.3871"
      ]
     },
     "metadata": {},
     "output_type": "display_data"
    },
    {
     "data": {
      "text/html": [
       "<table class=\"dataframe\">\n",
       "<caption>A data.frame: 3 × 3</caption>\n",
       "<thead>\n",
       "\t<tr><th></th><th scope=col>ctyp</th><th scope=col>freq</th><th scope=col>prop</th></tr>\n",
       "\t<tr><th></th><th scope=col>&lt;fct&gt;</th><th scope=col>&lt;int&gt;</th><th scope=col>&lt;dbl&gt;</th></tr>\n",
       "</thead>\n",
       "<tbody>\n",
       "\t<tr><th scope=row>1</th><td>InfC</td><td>112</td><td>14.489004</td></tr>\n",
       "\t<tr><th scope=row>3</th><td>NmCl</td><td> 78</td><td>10.090556</td></tr>\n",
       "\t<tr><th scope=row>5</th><td>Ptcp</td><td> 67</td><td> 8.667529</td></tr>\n",
       "</tbody>\n",
       "</table>\n"
      ],
      "text/latex": [
       "A data.frame: 3 × 3\n",
       "\\begin{tabular}{r|lll}\n",
       "  & ctyp & freq & prop\\\\\n",
       "  & <fct> & <int> & <dbl>\\\\\n",
       "\\hline\n",
       "\t1 & InfC & 112 & 14.489004\\\\\n",
       "\t3 & NmCl &  78 & 10.090556\\\\\n",
       "\t5 & Ptcp &  67 &  8.667529\\\\\n",
       "\\end{tabular}\n"
      ],
      "text/markdown": [
       "\n",
       "A data.frame: 3 × 3\n",
       "\n",
       "| <!--/--> | ctyp &lt;fct&gt; | freq &lt;int&gt; | prop &lt;dbl&gt; |\n",
       "|---|---|---|---|\n",
       "| 1 | InfC | 112 | 14.489004 |\n",
       "| 3 | NmCl |  78 | 10.090556 |\n",
       "| 5 | Ptcp |  67 |  8.667529 |\n",
       "\n"
      ],
      "text/plain": [
       "  ctyp freq prop     \n",
       "1 InfC 112  14.489004\n",
       "3 NmCl  78  10.090556\n",
       "5 Ptcp  67   8.667529"
      ]
     },
     "metadata": {},
     "output_type": "display_data"
    },
    {
     "data": {
      "text/html": [
       "<table class=\"dataframe\">\n",
       "<caption>A data.frame: 3 × 3</caption>\n",
       "<thead>\n",
       "\t<tr><th></th><th scope=col>ctyp</th><th scope=col>freq</th><th scope=col>prop</th></tr>\n",
       "\t<tr><th></th><th scope=col>&lt;fct&gt;</th><th scope=col>&lt;int&gt;</th><th scope=col>&lt;dbl&gt;</th></tr>\n",
       "</thead>\n",
       "<tbody>\n",
       "\t<tr><th scope=row>3</th><td>InfC</td><td>64</td><td>13.061224</td></tr>\n",
       "\t<tr><th scope=row>4</th><td>Ptcp</td><td>47</td><td> 9.591837</td></tr>\n",
       "\t<tr><th scope=row>5</th><td>NmCl</td><td>43</td><td> 8.775510</td></tr>\n",
       "</tbody>\n",
       "</table>\n"
      ],
      "text/latex": [
       "A data.frame: 3 × 3\n",
       "\\begin{tabular}{r|lll}\n",
       "  & ctyp & freq & prop\\\\\n",
       "  & <fct> & <int> & <dbl>\\\\\n",
       "\\hline\n",
       "\t3 & InfC & 64 & 13.061224\\\\\n",
       "\t4 & Ptcp & 47 &  9.591837\\\\\n",
       "\t5 & NmCl & 43 &  8.775510\\\\\n",
       "\\end{tabular}\n"
      ],
      "text/markdown": [
       "\n",
       "A data.frame: 3 × 3\n",
       "\n",
       "| <!--/--> | ctyp &lt;fct&gt; | freq &lt;int&gt; | prop &lt;dbl&gt; |\n",
       "|---|---|---|---|\n",
       "| 3 | InfC | 64 | 13.061224 |\n",
       "| 4 | Ptcp | 47 |  9.591837 |\n",
       "| 5 | NmCl | 43 |  8.775510 |\n",
       "\n"
      ],
      "text/plain": [
       "  ctyp freq prop     \n",
       "3 InfC 64   13.061224\n",
       "4 Ptcp 47    9.591837\n",
       "5 NmCl 43    8.775510"
      ]
     },
     "metadata": {},
     "output_type": "display_data"
    },
    {
     "data": {
      "text/html": [
       "<table class=\"dataframe\">\n",
       "<caption>A data.frame: 3 × 3</caption>\n",
       "<thead>\n",
       "\t<tr><th></th><th scope=col>ctyp</th><th scope=col>freq</th><th scope=col>prop</th></tr>\n",
       "\t<tr><th></th><th scope=col>&lt;fct&gt;</th><th scope=col>&lt;int&gt;</th><th scope=col>&lt;dbl&gt;</th></tr>\n",
       "</thead>\n",
       "<tbody>\n",
       "\t<tr><th scope=row>1</th><td>NmCl</td><td>31</td><td>14.027149</td></tr>\n",
       "\t<tr><th scope=row>2</th><td>InfC</td><td>25</td><td>11.312217</td></tr>\n",
       "\t<tr><th scope=row>3</th><td>Ptcp</td><td>17</td><td> 7.692308</td></tr>\n",
       "</tbody>\n",
       "</table>\n"
      ],
      "text/latex": [
       "A data.frame: 3 × 3\n",
       "\\begin{tabular}{r|lll}\n",
       "  & ctyp & freq & prop\\\\\n",
       "  & <fct> & <int> & <dbl>\\\\\n",
       "\\hline\n",
       "\t1 & NmCl & 31 & 14.027149\\\\\n",
       "\t2 & InfC & 25 & 11.312217\\\\\n",
       "\t3 & Ptcp & 17 &  7.692308\\\\\n",
       "\\end{tabular}\n"
      ],
      "text/markdown": [
       "\n",
       "A data.frame: 3 × 3\n",
       "\n",
       "| <!--/--> | ctyp &lt;fct&gt; | freq &lt;int&gt; | prop &lt;dbl&gt; |\n",
       "|---|---|---|---|\n",
       "| 1 | NmCl | 31 | 14.027149 |\n",
       "| 2 | InfC | 25 | 11.312217 |\n",
       "| 3 | Ptcp | 17 |  7.692308 |\n",
       "\n"
      ],
      "text/plain": [
       "  ctyp freq prop     \n",
       "1 NmCl 31   14.027149\n",
       "2 InfC 25   11.312217\n",
       "3 Ptcp 17    7.692308"
      ]
     },
     "metadata": {},
     "output_type": "display_data"
    },
    {
     "data": {
      "text/html": [
       "<table class=\"dataframe\">\n",
       "<caption>A data.frame: 3 × 3</caption>\n",
       "<thead>\n",
       "\t<tr><th></th><th scope=col>ctyp</th><th scope=col>freq</th><th scope=col>prop</th></tr>\n",
       "\t<tr><th></th><th scope=col>&lt;fct&gt;</th><th scope=col>&lt;int&gt;</th><th scope=col>&lt;dbl&gt;</th></tr>\n",
       "</thead>\n",
       "<tbody>\n",
       "\t<tr><th scope=row>1</th><td>InfC</td><td>23</td><td>37.096774</td></tr>\n",
       "\t<tr><th scope=row>3</th><td>NmCl</td><td> 4</td><td> 6.451613</td></tr>\n",
       "\t<tr><th scope=row>5</th><td>Ptcp</td><td> 3</td><td> 4.838710</td></tr>\n",
       "</tbody>\n",
       "</table>\n"
      ],
      "text/latex": [
       "A data.frame: 3 × 3\n",
       "\\begin{tabular}{r|lll}\n",
       "  & ctyp & freq & prop\\\\\n",
       "  & <fct> & <int> & <dbl>\\\\\n",
       "\\hline\n",
       "\t1 & InfC & 23 & 37.096774\\\\\n",
       "\t3 & NmCl &  4 &  6.451613\\\\\n",
       "\t5 & Ptcp &  3 &  4.838710\\\\\n",
       "\\end{tabular}\n"
      ],
      "text/markdown": [
       "\n",
       "A data.frame: 3 × 3\n",
       "\n",
       "| <!--/--> | ctyp &lt;fct&gt; | freq &lt;int&gt; | prop &lt;dbl&gt; |\n",
       "|---|---|---|---|\n",
       "| 1 | InfC | 23 | 37.096774 |\n",
       "| 3 | NmCl |  4 |  6.451613 |\n",
       "| 5 | Ptcp |  3 |  4.838710 |\n",
       "\n"
      ],
      "text/plain": [
       "  ctyp freq prop     \n",
       "1 InfC 23   37.096774\n",
       "3 NmCl  4    6.451613\n",
       "5 Ptcp  3    4.838710"
      ]
     },
     "metadata": {},
     "output_type": "display_data"
    }
   ],
   "source": [
    "\"전체\" \n",
    "sum_total\n",
    "\n",
    "\"서술문\"\n",
    "sum_description\n",
    "\n",
    "\"담화문\"\n",
    "sum_discourse\n",
    "\n",
    "\"서신문\"\n",
    "sum_letter\n",
    "\n",
    "total_NmCl\n",
    "description_NmCl\n",
    "discourse_NmCl\n",
    "letter_NmCl"
   ]
  },
  {
   "cell_type": "code",
   "execution_count": 12,
   "id": "4abb52b4",
   "metadata": {},
   "outputs": [
    {
     "data": {
      "text/html": [
       "<table class=\"dataframe\">\n",
       "<caption>A mytable.df: 73 × 6</caption>\n",
       "<thead>\n",
       "\t<tr><th scope=col>name</th><th scope=col>stats</th><th scope=col>N</th><th scope=col>missing</th><th scope=col>rate</th><th scope=col>class</th></tr>\n",
       "\t<tr><th scope=col>&lt;chr&gt;</th><th scope=col>&lt;chr&gt;</th><th scope=col>&lt;chr&gt;</th><th scope=col>&lt;chr&gt;</th><th scope=col>&lt;chr&gt;</th><th scope=col>&lt;chr&gt;</th></tr>\n",
       "</thead>\n",
       "<tbody>\n",
       "\t<tr><td>book           </td><td>unique values  166</td><td>4579</td><td>0</td><td>( 0.0%)</td><td>categorical</td></tr>\n",
       "\t<tr><td>lex            </td><td>unique values  435</td><td>4579</td><td>0</td><td>( 0.0%)</td><td>categorical</td></tr>\n",
       "\t<tr><td>sp             </td><td>                  </td><td>4579</td><td>0</td><td>( 0.0%)</td><td>categorical</td></tr>\n",
       "\t<tr><td>  - adjv       </td><td>128  (2.8%)       </td><td>    </td><td> </td><td>       </td><td>           </td></tr>\n",
       "\t<tr><td>  - advb       </td><td>25  (0.5%)        </td><td>    </td><td> </td><td>       </td><td>           </td></tr>\n",
       "\t<tr><td>  - art        </td><td>537  (11.7%)      </td><td>    </td><td> </td><td>       </td><td>           </td></tr>\n",
       "\t<tr><td>  - conj       </td><td>676  (14.8%)      </td><td>    </td><td> </td><td>       </td><td>           </td></tr>\n",
       "\t<tr><td>  - inrg       </td><td>7  (0.2%)         </td><td>    </td><td> </td><td>       </td><td>           </td></tr>\n",
       "\t<tr><td>  - intj       </td><td>3  (0.1%)         </td><td>    </td><td> </td><td>       </td><td>           </td></tr>\n",
       "\t<tr><td>  - nega       </td><td>32  (0.7%)        </td><td>    </td><td> </td><td>       </td><td>           </td></tr>\n",
       "\t<tr><td>  - nmpr       </td><td>306  (6.7%)       </td><td>    </td><td> </td><td>       </td><td>           </td></tr>\n",
       "\t<tr><td>  - prde       </td><td>26  (0.6%)        </td><td>    </td><td> </td><td>       </td><td>           </td></tr>\n",
       "\t<tr><td>  - prep       </td><td>828  (18.1%)      </td><td>    </td><td> </td><td>       </td><td>           </td></tr>\n",
       "\t<tr><td>  - prin       </td><td>22  (0.5%)        </td><td>    </td><td> </td><td>       </td><td>           </td></tr>\n",
       "\t<tr><td>  - prps       </td><td>37  (0.8%)        </td><td>    </td><td> </td><td>       </td><td>           </td></tr>\n",
       "\t<tr><td>  - subs       </td><td>1308  (28.6%)     </td><td>    </td><td> </td><td>       </td><td>           </td></tr>\n",
       "\t<tr><td>  - verb       </td><td>644  (14.1%)      </td><td>    </td><td> </td><td>       </td><td>           </td></tr>\n",
       "\t<tr><td>vs             </td><td>                  </td><td>4579</td><td>0</td><td>( 0.0%)</td><td>categorical</td></tr>\n",
       "\t<tr><td>  -            </td><td>3935  (85.9%)     </td><td>    </td><td> </td><td>       </td><td>           </td></tr>\n",
       "\t<tr><td>  - hif        </td><td>76  (1.7%)        </td><td>    </td><td> </td><td>       </td><td>           </td></tr>\n",
       "\t<tr><td>  - hit        </td><td>6  (0.1%)         </td><td>    </td><td> </td><td>       </td><td>           </td></tr>\n",
       "\t<tr><td>  - hof        </td><td>3  (0.1%)         </td><td>    </td><td> </td><td>       </td><td>           </td></tr>\n",
       "\t<tr><td>  - hsht       </td><td>3  (0.1%)         </td><td>    </td><td> </td><td>       </td><td>           </td></tr>\n",
       "\t<tr><td>  - nif        </td><td>75  (1.6%)        </td><td>    </td><td> </td><td>       </td><td>           </td></tr>\n",
       "\t<tr><td>  - piel       </td><td>62  (1.4%)        </td><td>    </td><td> </td><td>       </td><td>           </td></tr>\n",
       "\t<tr><td>  - pual       </td><td>4  (0.1%)         </td><td>    </td><td> </td><td>       </td><td>           </td></tr>\n",
       "\t<tr><td>  - qal        </td><td>415  (9.1%)       </td><td>    </td><td> </td><td>       </td><td>           </td></tr>\n",
       "\t<tr><td>vt             </td><td>                  </td><td>4579</td><td>0</td><td>( 0.0%)</td><td>categorical</td></tr>\n",
       "\t<tr><td>  -            </td><td>3935  (85.9%)     </td><td>    </td><td> </td><td>       </td><td>           </td></tr>\n",
       "\t<tr><td>  - impf       </td><td>71  (1.6%)        </td><td>    </td><td> </td><td>       </td><td>           </td></tr>\n",
       "\t<tr><td>⋮</td><td>⋮</td><td>⋮</td><td>⋮</td><td>⋮</td><td>⋮</td></tr>\n",
       "\t<tr><td>  - CP         </td><td>517  (11.3%)      </td><td>    </td><td> </td><td>       </td><td>           </td></tr>\n",
       "\t<tr><td>  - DPrP       </td><td>1  (0.0%)         </td><td>    </td><td> </td><td>       </td><td>           </td></tr>\n",
       "\t<tr><td>  - InjP       </td><td>3  (0.1%)         </td><td>    </td><td> </td><td>       </td><td>           </td></tr>\n",
       "\t<tr><td>  - InrP       </td><td>8  (0.2%)         </td><td>    </td><td> </td><td>       </td><td>           </td></tr>\n",
       "\t<tr><td>  - IPrP       </td><td>19  (0.4%)        </td><td>    </td><td> </td><td>       </td><td>           </td></tr>\n",
       "\t<tr><td>  - NegP       </td><td>42  (0.9%)        </td><td>    </td><td> </td><td>       </td><td>           </td></tr>\n",
       "\t<tr><td>  - NP         </td><td>297  (6.5%)       </td><td>    </td><td> </td><td>       </td><td>           </td></tr>\n",
       "\t<tr><td>  - PP         </td><td>618  (13.5%)      </td><td>    </td><td> </td><td>       </td><td>           </td></tr>\n",
       "\t<tr><td>  - PPrP       </td><td>29  (0.6%)        </td><td>    </td><td> </td><td>       </td><td>           </td></tr>\n",
       "\t<tr><td>  - PrNP       </td><td>93  (2.0%)        </td><td>    </td><td> </td><td>       </td><td>           </td></tr>\n",
       "\t<tr><td>  - VP         </td><td>599  (13.1%)      </td><td>    </td><td> </td><td>       </td><td>           </td></tr>\n",
       "\t<tr><td>gloss          </td><td>unique values  430</td><td>4579</td><td>0</td><td>( 0.0%)</td><td>categorical</td></tr>\n",
       "\t<tr><td>speaker        </td><td>                  </td><td>4579</td><td>0</td><td>( 0.0%)</td><td>categorical</td></tr>\n",
       "\t<tr><td>  - author     </td><td>3105  (67.8%)     </td><td>    </td><td> </td><td>       </td><td>           </td></tr>\n",
       "\t<tr><td>  - jew        </td><td>591  (12.9%)      </td><td>    </td><td> </td><td>       </td><td>           </td></tr>\n",
       "\t<tr><td>  - persian    </td><td>883  (19.3%)      </td><td>    </td><td> </td><td>       </td><td>           </td></tr>\n",
       "\t<tr><td>ttype          </td><td>                  </td><td>4579</td><td>0</td><td>( 0.0%)</td><td>categorical</td></tr>\n",
       "\t<tr><td>  - description</td><td>3105  (67.8%)     </td><td>    </td><td> </td><td>       </td><td>           </td></tr>\n",
       "\t<tr><td>  - discourse  </td><td>1117  (24.4%)     </td><td>    </td><td> </td><td>       </td><td>           </td></tr>\n",
       "\t<tr><td>  - letter     </td><td>357  (7.8%)       </td><td>    </td><td> </td><td>       </td><td>           </td></tr>\n",
       "\t<tr><td>clausespeaker  </td><td>                  </td><td>4579</td><td>0</td><td>( 0.0%)</td><td>categorical</td></tr>\n",
       "\t<tr><td>  -            </td><td>3806  (83.1%)     </td><td>    </td><td> </td><td>       </td><td>           </td></tr>\n",
       "\t<tr><td>  - author     </td><td>490  (10.7%)      </td><td>    </td><td> </td><td>       </td><td>           </td></tr>\n",
       "\t<tr><td>  - jew        </td><td>116  (2.5%)       </td><td>    </td><td> </td><td>       </td><td>           </td></tr>\n",
       "\t<tr><td>  - persian    </td><td>167  (3.6%)       </td><td>    </td><td> </td><td>       </td><td>           </td></tr>\n",
       "\t<tr><td>clausettype    </td><td>                  </td><td>4579</td><td>0</td><td>( 0.0%)</td><td>categorical</td></tr>\n",
       "\t<tr><td>  -            </td><td>3806  (83.1%)     </td><td>    </td><td> </td><td>       </td><td>           </td></tr>\n",
       "\t<tr><td>  - description</td><td>490  (10.7%)      </td><td>    </td><td> </td><td>       </td><td>           </td></tr>\n",
       "\t<tr><td>  - discourse  </td><td>221  (4.8%)       </td><td>    </td><td> </td><td>       </td><td>           </td></tr>\n",
       "\t<tr><td>  - letter     </td><td>62  (1.4%)        </td><td>    </td><td> </td><td>       </td><td>           </td></tr>\n",
       "</tbody>\n",
       "</table>\n"
      ],
      "text/latex": [
       "A mytable.df: 73 × 6\n",
       "\\begin{tabular}{llllll}\n",
       " name & stats & N & missing & rate & class\\\\\n",
       " <chr> & <chr> & <chr> & <chr> & <chr> & <chr>\\\\\n",
       "\\hline\n",
       "\t book            & unique values  166 & 4579 & 0 & ( 0.0\\%) & categorical\\\\\n",
       "\t lex             & unique values  435 & 4579 & 0 & ( 0.0\\%) & categorical\\\\\n",
       "\t sp              &                    & 4579 & 0 & ( 0.0\\%) & categorical\\\\\n",
       "\t   - adjv        & 128  (2.8\\%)        &      &   &         &            \\\\\n",
       "\t   - advb        & 25  (0.5\\%)         &      &   &         &            \\\\\n",
       "\t   - art         & 537  (11.7\\%)       &      &   &         &            \\\\\n",
       "\t   - conj        & 676  (14.8\\%)       &      &   &         &            \\\\\n",
       "\t   - inrg        & 7  (0.2\\%)          &      &   &         &            \\\\\n",
       "\t   - intj        & 3  (0.1\\%)          &      &   &         &            \\\\\n",
       "\t   - nega        & 32  (0.7\\%)         &      &   &         &            \\\\\n",
       "\t   - nmpr        & 306  (6.7\\%)        &      &   &         &            \\\\\n",
       "\t   - prde        & 26  (0.6\\%)         &      &   &         &            \\\\\n",
       "\t   - prep        & 828  (18.1\\%)       &      &   &         &            \\\\\n",
       "\t   - prin        & 22  (0.5\\%)         &      &   &         &            \\\\\n",
       "\t   - prps        & 37  (0.8\\%)         &      &   &         &            \\\\\n",
       "\t   - subs        & 1308  (28.6\\%)      &      &   &         &            \\\\\n",
       "\t   - verb        & 644  (14.1\\%)       &      &   &         &            \\\\\n",
       "\t vs              &                    & 4579 & 0 & ( 0.0\\%) & categorical\\\\\n",
       "\t   -             & 3935  (85.9\\%)      &      &   &         &            \\\\\n",
       "\t   - hif         & 76  (1.7\\%)         &      &   &         &            \\\\\n",
       "\t   - hit         & 6  (0.1\\%)          &      &   &         &            \\\\\n",
       "\t   - hof         & 3  (0.1\\%)          &      &   &         &            \\\\\n",
       "\t   - hsht        & 3  (0.1\\%)          &      &   &         &            \\\\\n",
       "\t   - nif         & 75  (1.6\\%)         &      &   &         &            \\\\\n",
       "\t   - piel        & 62  (1.4\\%)         &      &   &         &            \\\\\n",
       "\t   - pual        & 4  (0.1\\%)          &      &   &         &            \\\\\n",
       "\t   - qal         & 415  (9.1\\%)        &      &   &         &            \\\\\n",
       "\t vt              &                    & 4579 & 0 & ( 0.0\\%) & categorical\\\\\n",
       "\t   -             & 3935  (85.9\\%)      &      &   &         &            \\\\\n",
       "\t   - impf        & 71  (1.6\\%)         &      &   &         &            \\\\\n",
       "\t ⋮ & ⋮ & ⋮ & ⋮ & ⋮ & ⋮\\\\\n",
       "\t   - CP          & 517  (11.3\\%)       &      &   &         &            \\\\\n",
       "\t   - DPrP        & 1  (0.0\\%)          &      &   &         &            \\\\\n",
       "\t   - InjP        & 3  (0.1\\%)          &      &   &         &            \\\\\n",
       "\t   - InrP        & 8  (0.2\\%)          &      &   &         &            \\\\\n",
       "\t   - IPrP        & 19  (0.4\\%)         &      &   &         &            \\\\\n",
       "\t   - NegP        & 42  (0.9\\%)         &      &   &         &            \\\\\n",
       "\t   - NP          & 297  (6.5\\%)        &      &   &         &            \\\\\n",
       "\t   - PP          & 618  (13.5\\%)       &      &   &         &            \\\\\n",
       "\t   - PPrP        & 29  (0.6\\%)         &      &   &         &            \\\\\n",
       "\t   - PrNP        & 93  (2.0\\%)         &      &   &         &            \\\\\n",
       "\t   - VP          & 599  (13.1\\%)       &      &   &         &            \\\\\n",
       "\t gloss           & unique values  430 & 4579 & 0 & ( 0.0\\%) & categorical\\\\\n",
       "\t speaker         &                    & 4579 & 0 & ( 0.0\\%) & categorical\\\\\n",
       "\t   - author      & 3105  (67.8\\%)      &      &   &         &            \\\\\n",
       "\t   - jew         & 591  (12.9\\%)       &      &   &         &            \\\\\n",
       "\t   - persian     & 883  (19.3\\%)       &      &   &         &            \\\\\n",
       "\t ttype           &                    & 4579 & 0 & ( 0.0\\%) & categorical\\\\\n",
       "\t   - description & 3105  (67.8\\%)      &      &   &         &            \\\\\n",
       "\t   - discourse   & 1117  (24.4\\%)      &      &   &         &            \\\\\n",
       "\t   - letter      & 357  (7.8\\%)        &      &   &         &            \\\\\n",
       "\t clausespeaker   &                    & 4579 & 0 & ( 0.0\\%) & categorical\\\\\n",
       "\t   -             & 3806  (83.1\\%)      &      &   &         &            \\\\\n",
       "\t   - author      & 490  (10.7\\%)       &      &   &         &            \\\\\n",
       "\t   - jew         & 116  (2.5\\%)        &      &   &         &            \\\\\n",
       "\t   - persian     & 167  (3.6\\%)        &      &   &         &            \\\\\n",
       "\t clausettype     &                    & 4579 & 0 & ( 0.0\\%) & categorical\\\\\n",
       "\t   -             & 3806  (83.1\\%)      &      &   &         &            \\\\\n",
       "\t   - description & 490  (10.7\\%)       &      &   &         &            \\\\\n",
       "\t   - discourse   & 221  (4.8\\%)        &      &   &         &            \\\\\n",
       "\t   - letter      & 62  (1.4\\%)         &      &   &         &            \\\\\n",
       "\\end{tabular}\n"
      ],
      "text/markdown": [
       "\n",
       "A mytable.df: 73 × 6\n",
       "\n",
       "| name &lt;chr&gt; | stats &lt;chr&gt; | N &lt;chr&gt; | missing &lt;chr&gt; | rate &lt;chr&gt; | class &lt;chr&gt; |\n",
       "|---|---|---|---|---|---|\n",
       "| book            | unique values  166 | 4579 | 0 | ( 0.0%) | categorical |\n",
       "| lex             | unique values  435 | 4579 | 0 | ( 0.0%) | categorical |\n",
       "| sp              | <!----> | 4579 | 0 | ( 0.0%) | categorical |\n",
       "|   - adjv        | 128  (2.8%)        | <!----> | <!----> | <!----> | <!----> |\n",
       "|   - advb        | 25  (0.5%)         | <!----> | <!----> | <!----> | <!----> |\n",
       "|   - art         | 537  (11.7%)       | <!----> | <!----> | <!----> | <!----> |\n",
       "|   - conj        | 676  (14.8%)       | <!----> | <!----> | <!----> | <!----> |\n",
       "|   - inrg        | 7  (0.2%)          | <!----> | <!----> | <!----> | <!----> |\n",
       "|   - intj        | 3  (0.1%)          | <!----> | <!----> | <!----> | <!----> |\n",
       "|   - nega        | 32  (0.7%)         | <!----> | <!----> | <!----> | <!----> |\n",
       "|   - nmpr        | 306  (6.7%)        | <!----> | <!----> | <!----> | <!----> |\n",
       "|   - prde        | 26  (0.6%)         | <!----> | <!----> | <!----> | <!----> |\n",
       "|   - prep        | 828  (18.1%)       | <!----> | <!----> | <!----> | <!----> |\n",
       "|   - prin        | 22  (0.5%)         | <!----> | <!----> | <!----> | <!----> |\n",
       "|   - prps        | 37  (0.8%)         | <!----> | <!----> | <!----> | <!----> |\n",
       "|   - subs        | 1308  (28.6%)      | <!----> | <!----> | <!----> | <!----> |\n",
       "|   - verb        | 644  (14.1%)       | <!----> | <!----> | <!----> | <!----> |\n",
       "| vs              | <!----> | 4579 | 0 | ( 0.0%) | categorical |\n",
       "|   -             | 3935  (85.9%)      | <!----> | <!----> | <!----> | <!----> |\n",
       "|   - hif         | 76  (1.7%)         | <!----> | <!----> | <!----> | <!----> |\n",
       "|   - hit         | 6  (0.1%)          | <!----> | <!----> | <!----> | <!----> |\n",
       "|   - hof         | 3  (0.1%)          | <!----> | <!----> | <!----> | <!----> |\n",
       "|   - hsht        | 3  (0.1%)          | <!----> | <!----> | <!----> | <!----> |\n",
       "|   - nif         | 75  (1.6%)         | <!----> | <!----> | <!----> | <!----> |\n",
       "|   - piel        | 62  (1.4%)         | <!----> | <!----> | <!----> | <!----> |\n",
       "|   - pual        | 4  (0.1%)          | <!----> | <!----> | <!----> | <!----> |\n",
       "|   - qal         | 415  (9.1%)        | <!----> | <!----> | <!----> | <!----> |\n",
       "| vt              | <!----> | 4579 | 0 | ( 0.0%) | categorical |\n",
       "|   -             | 3935  (85.9%)      | <!----> | <!----> | <!----> | <!----> |\n",
       "|   - impf        | 71  (1.6%)         | <!----> | <!----> | <!----> | <!----> |\n",
       "| ⋮ | ⋮ | ⋮ | ⋮ | ⋮ | ⋮ |\n",
       "|   - CP          | 517  (11.3%)       | <!----> | <!----> | <!----> | <!----> |\n",
       "|   - DPrP        | 1  (0.0%)          | <!----> | <!----> | <!----> | <!----> |\n",
       "|   - InjP        | 3  (0.1%)          | <!----> | <!----> | <!----> | <!----> |\n",
       "|   - InrP        | 8  (0.2%)          | <!----> | <!----> | <!----> | <!----> |\n",
       "|   - IPrP        | 19  (0.4%)         | <!----> | <!----> | <!----> | <!----> |\n",
       "|   - NegP        | 42  (0.9%)         | <!----> | <!----> | <!----> | <!----> |\n",
       "|   - NP          | 297  (6.5%)        | <!----> | <!----> | <!----> | <!----> |\n",
       "|   - PP          | 618  (13.5%)       | <!----> | <!----> | <!----> | <!----> |\n",
       "|   - PPrP        | 29  (0.6%)         | <!----> | <!----> | <!----> | <!----> |\n",
       "|   - PrNP        | 93  (2.0%)         | <!----> | <!----> | <!----> | <!----> |\n",
       "|   - VP          | 599  (13.1%)       | <!----> | <!----> | <!----> | <!----> |\n",
       "| gloss           | unique values  430 | 4579 | 0 | ( 0.0%) | categorical |\n",
       "| speaker         | <!----> | 4579 | 0 | ( 0.0%) | categorical |\n",
       "|   - author      | 3105  (67.8%)      | <!----> | <!----> | <!----> | <!----> |\n",
       "|   - jew         | 591  (12.9%)       | <!----> | <!----> | <!----> | <!----> |\n",
       "|   - persian     | 883  (19.3%)       | <!----> | <!----> | <!----> | <!----> |\n",
       "| ttype           | <!----> | 4579 | 0 | ( 0.0%) | categorical |\n",
       "|   - description | 3105  (67.8%)      | <!----> | <!----> | <!----> | <!----> |\n",
       "|   - discourse   | 1117  (24.4%)      | <!----> | <!----> | <!----> | <!----> |\n",
       "|   - letter      | 357  (7.8%)        | <!----> | <!----> | <!----> | <!----> |\n",
       "| clausespeaker   | <!----> | 4579 | 0 | ( 0.0%) | categorical |\n",
       "|   -             | 3806  (83.1%)      | <!----> | <!----> | <!----> | <!----> |\n",
       "|   - author      | 490  (10.7%)       | <!----> | <!----> | <!----> | <!----> |\n",
       "|   - jew         | 116  (2.5%)        | <!----> | <!----> | <!----> | <!----> |\n",
       "|   - persian     | 167  (3.6%)        | <!----> | <!----> | <!----> | <!----> |\n",
       "| clausettype     | <!----> | 4579 | 0 | ( 0.0%) | categorical |\n",
       "|   -             | 3806  (83.1%)      | <!----> | <!----> | <!----> | <!----> |\n",
       "|   - description | 490  (10.7%)       | <!----> | <!----> | <!----> | <!----> |\n",
       "|   - discourse   | 221  (4.8%)        | <!----> | <!----> | <!----> | <!----> |\n",
       "|   - letter      | 62  (1.4%)         | <!----> | <!----> | <!----> | <!----> |\n",
       "\n"
      ],
      "text/plain": [
       "   name            stats              N    missing rate    class      \n",
       "1  book            unique values  166 4579 0       ( 0.0%) categorical\n",
       "2  lex             unique values  435 4579 0       ( 0.0%) categorical\n",
       "3  sp                                 4579 0       ( 0.0%) categorical\n",
       "4    - adjv        128  (2.8%)                                        \n",
       "5    - advb        25  (0.5%)                                         \n",
       "6    - art         537  (11.7%)                                       \n",
       "7    - conj        676  (14.8%)                                       \n",
       "8    - inrg        7  (0.2%)                                          \n",
       "9    - intj        3  (0.1%)                                          \n",
       "10   - nega        32  (0.7%)                                         \n",
       "11   - nmpr        306  (6.7%)                                        \n",
       "12   - prde        26  (0.6%)                                         \n",
       "13   - prep        828  (18.1%)                                       \n",
       "14   - prin        22  (0.5%)                                         \n",
       "15   - prps        37  (0.8%)                                         \n",
       "16   - subs        1308  (28.6%)                                      \n",
       "17   - verb        644  (14.1%)                                       \n",
       "18 vs                                 4579 0       ( 0.0%) categorical\n",
       "19   -             3935  (85.9%)                                      \n",
       "20   - hif         76  (1.7%)                                         \n",
       "21   - hit         6  (0.1%)                                          \n",
       "22   - hof         3  (0.1%)                                          \n",
       "23   - hsht        3  (0.1%)                                          \n",
       "24   - nif         75  (1.6%)                                         \n",
       "25   - piel        62  (1.4%)                                         \n",
       "26   - pual        4  (0.1%)                                          \n",
       "27   - qal         415  (9.1%)                                        \n",
       "28 vt                                 4579 0       ( 0.0%) categorical\n",
       "29   -             3935  (85.9%)                                      \n",
       "30   - impf        71  (1.6%)                                         \n",
       "⋮  ⋮               ⋮                  ⋮    ⋮       ⋮       ⋮          \n",
       "44   - CP          517  (11.3%)                                       \n",
       "45   - DPrP        1  (0.0%)                                          \n",
       "46   - InjP        3  (0.1%)                                          \n",
       "47   - InrP        8  (0.2%)                                          \n",
       "48   - IPrP        19  (0.4%)                                         \n",
       "49   - NegP        42  (0.9%)                                         \n",
       "50   - NP          297  (6.5%)                                        \n",
       "51   - PP          618  (13.5%)                                       \n",
       "52   - PPrP        29  (0.6%)                                         \n",
       "53   - PrNP        93  (2.0%)                                         \n",
       "54   - VP          599  (13.1%)                                       \n",
       "55 gloss           unique values  430 4579 0       ( 0.0%) categorical\n",
       "56 speaker                            4579 0       ( 0.0%) categorical\n",
       "57   - author      3105  (67.8%)                                      \n",
       "58   - jew         591  (12.9%)                                       \n",
       "59   - persian     883  (19.3%)                                       \n",
       "60 ttype                              4579 0       ( 0.0%) categorical\n",
       "61   - description 3105  (67.8%)                                      \n",
       "62   - discourse   1117  (24.4%)                                      \n",
       "63   - letter      357  (7.8%)                                        \n",
       "64 clausespeaker                      4579 0       ( 0.0%) categorical\n",
       "65   -             3806  (83.1%)                                      \n",
       "66   - author      490  (10.7%)                                       \n",
       "67   - jew         116  (2.5%)                                        \n",
       "68   - persian     167  (3.6%)                                        \n",
       "69 clausettype                        4579 0       ( 0.0%) categorical\n",
       "70   -             3806  (83.1%)                                      \n",
       "71   - description 490  (10.7%)                                       \n",
       "72   - discourse   221  (4.8%)                                        \n",
       "73   - letter      62  (1.4%)                                         "
      ]
     },
     "metadata": {},
     "output_type": "display_data"
    }
   ],
   "source": [
    "mytable(total)"
   ]
  }
 ],
 "metadata": {
  "kernelspec": {
   "display_name": "R",
   "language": "R",
   "name": "r"
  },
  "language_info": {
   "codemirror_mode": "r",
   "file_extension": ".r",
   "mimetype": "text/x-r-source",
   "name": "R",
   "pygments_lexer": "r",
   "version": "4.2.3"
  }
 },
 "nbformat": 4,
 "nbformat_minor": 5
}
